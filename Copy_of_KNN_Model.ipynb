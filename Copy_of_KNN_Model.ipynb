{
  "nbformat": 4,
  "nbformat_minor": 0,
  "metadata": {
    "colab": {
      "name": "Copy of KNN Model.ipynb",
      "provenance": [],
      "collapsed_sections": [],
      "authorship_tag": "ABX9TyNWBiaUEo37YUbOWR3jY9Fw",
      "include_colab_link": true
    },
    "kernelspec": {
      "name": "python3",
      "display_name": "Python 3"
    },
    "language_info": {
      "name": "python"
    }
  },
  "cells": [
    {
      "cell_type": "markdown",
      "metadata": {
        "id": "view-in-github",
        "colab_type": "text"
      },
      "source": [
        "<a href=\"https://colab.research.google.com/github/eshitamalhotraaaa/datasciencecoursera/blob/master/Copy_of_KNN_Model.ipynb\" target=\"_parent\"><img src=\"https://colab.research.google.com/assets/colab-badge.svg\" alt=\"Open In Colab\"/></a>"
      ]
    },
    {
      "cell_type": "code",
      "metadata": {
        "colab": {
          "base_uri": "https://localhost:8080/"
        },
        "id": "WcWAleFkqdKq",
        "outputId": "811d5a98-d2cd-4230-ecaa-f71490478ce9"
      },
      "source": [
        "from google.colab import drive\n",
        "drive.mount('/content/drive')"
      ],
      "execution_count": null,
      "outputs": [
        {
          "output_type": "stream",
          "name": "stdout",
          "text": [
            "Mounted at /content/drive\n"
          ]
        }
      ]
    },
    {
      "cell_type": "code",
      "metadata": {
        "id": "yuUkt4isqIDt"
      },
      "source": [
        "import numpy as np\n",
        "import matplotlib.pyplot as plt\n",
        "import pandas as pd\n",
        "import seaborn as sns\n",
        "%matplotlib notebook"
      ],
      "execution_count": null,
      "outputs": []
    },
    {
      "cell_type": "code",
      "metadata": {
        "id": "RTYKEn4Mqfu3"
      },
      "source": [
        "#train dataset\n",
        "path = \"/content/drive/MyDrive/Colab_CSV/Covid_Data.csv\"\n",
        "dataset = pd.read_csv(path)"
      ],
      "execution_count": null,
      "outputs": []
    },
    {
      "cell_type": "code",
      "metadata": {
        "colab": {
          "base_uri": "https://localhost:8080/",
          "height": 206
        },
        "id": "K2vcYaI8rNSd",
        "outputId": "39618b8d-c090-4957-f3aa-6d6043804bf3"
      },
      "source": [
        "dataset.head()"
      ],
      "execution_count": null,
      "outputs": [
        {
          "output_type": "execute_result",
          "data": {
            "text/html": [
              "\n",
              "  <div id=\"df-5944ecf4-923e-4e57-9a6a-07bf801c28e9\">\n",
              "    <div class=\"colab-df-container\">\n",
              "      <div>\n",
              "<style scoped>\n",
              "    .dataframe tbody tr th:only-of-type {\n",
              "        vertical-align: middle;\n",
              "    }\n",
              "\n",
              "    .dataframe tbody tr th {\n",
              "        vertical-align: top;\n",
              "    }\n",
              "\n",
              "    .dataframe thead th {\n",
              "        text-align: right;\n",
              "    }\n",
              "</style>\n",
              "<table border=\"1\" class=\"dataframe\">\n",
              "  <thead>\n",
              "    <tr style=\"text-align: right;\">\n",
              "      <th></th>\n",
              "      <th>Serial Number</th>\n",
              "      <th>Tweet ID</th>\n",
              "      <th>Tweet Content</th>\n",
              "      <th>Label</th>\n",
              "    </tr>\n",
              "  </thead>\n",
              "  <tbody>\n",
              "    <tr>\n",
              "      <th>0</th>\n",
              "      <td>1</td>\n",
              "      <td>1.240000e+18</td>\n",
              "      <td>And if you found something fishy just informed...</td>\n",
              "      <td>Informative</td>\n",
              "    </tr>\n",
              "    <tr>\n",
              "      <th>1</th>\n",
              "      <td>2</td>\n",
              "      <td>1.240000e+18</td>\n",
              "      <td>Canada\\u2019s cyber spies taking down sites as...</td>\n",
              "      <td>Non-Actionable</td>\n",
              "    </tr>\n",
              "    <tr>\n",
              "      <th>2</th>\n",
              "      <td>3</td>\n",
              "      <td>1.370000e+18</td>\n",
              "      <td>@MehHarshil Lol.... Yes, it is true...and you ...</td>\n",
              "      <td>Non-Actionable</td>\n",
              "    </tr>\n",
              "    <tr>\n",
              "      <th>3</th>\n",
              "      <td>4</td>\n",
              "      <td>1.240000e+18</td>\n",
              "      <td>India would  have  been saved if the politicia...</td>\n",
              "      <td>Non-Actionable</td>\n",
              "    </tr>\n",
              "    <tr>\n",
              "      <th>4</th>\n",
              "      <td>5</td>\n",
              "      <td>1.410000e+18</td>\n",
              "      <td>Mumbai Covid vaccine scam: Probe says victims ...</td>\n",
              "      <td>Informative</td>\n",
              "    </tr>\n",
              "  </tbody>\n",
              "</table>\n",
              "</div>\n",
              "      <button class=\"colab-df-convert\" onclick=\"convertToInteractive('df-5944ecf4-923e-4e57-9a6a-07bf801c28e9')\"\n",
              "              title=\"Convert this dataframe to an interactive table.\"\n",
              "              style=\"display:none;\">\n",
              "        \n",
              "  <svg xmlns=\"http://www.w3.org/2000/svg\" height=\"24px\"viewBox=\"0 0 24 24\"\n",
              "       width=\"24px\">\n",
              "    <path d=\"M0 0h24v24H0V0z\" fill=\"none\"/>\n",
              "    <path d=\"M18.56 5.44l.94 2.06.94-2.06 2.06-.94-2.06-.94-.94-2.06-.94 2.06-2.06.94zm-11 1L8.5 8.5l.94-2.06 2.06-.94-2.06-.94L8.5 2.5l-.94 2.06-2.06.94zm10 10l.94 2.06.94-2.06 2.06-.94-2.06-.94-.94-2.06-.94 2.06-2.06.94z\"/><path d=\"M17.41 7.96l-1.37-1.37c-.4-.4-.92-.59-1.43-.59-.52 0-1.04.2-1.43.59L10.3 9.45l-7.72 7.72c-.78.78-.78 2.05 0 2.83L4 21.41c.39.39.9.59 1.41.59.51 0 1.02-.2 1.41-.59l7.78-7.78 2.81-2.81c.8-.78.8-2.07 0-2.86zM5.41 20L4 18.59l7.72-7.72 1.47 1.35L5.41 20z\"/>\n",
              "  </svg>\n",
              "      </button>\n",
              "      \n",
              "  <style>\n",
              "    .colab-df-container {\n",
              "      display:flex;\n",
              "      flex-wrap:wrap;\n",
              "      gap: 12px;\n",
              "    }\n",
              "\n",
              "    .colab-df-convert {\n",
              "      background-color: #E8F0FE;\n",
              "      border: none;\n",
              "      border-radius: 50%;\n",
              "      cursor: pointer;\n",
              "      display: none;\n",
              "      fill: #1967D2;\n",
              "      height: 32px;\n",
              "      padding: 0 0 0 0;\n",
              "      width: 32px;\n",
              "    }\n",
              "\n",
              "    .colab-df-convert:hover {\n",
              "      background-color: #E2EBFA;\n",
              "      box-shadow: 0px 1px 2px rgba(60, 64, 67, 0.3), 0px 1px 3px 1px rgba(60, 64, 67, 0.15);\n",
              "      fill: #174EA6;\n",
              "    }\n",
              "\n",
              "    [theme=dark] .colab-df-convert {\n",
              "      background-color: #3B4455;\n",
              "      fill: #D2E3FC;\n",
              "    }\n",
              "\n",
              "    [theme=dark] .colab-df-convert:hover {\n",
              "      background-color: #434B5C;\n",
              "      box-shadow: 0px 1px 3px 1px rgba(0, 0, 0, 0.15);\n",
              "      filter: drop-shadow(0px 1px 2px rgba(0, 0, 0, 0.3));\n",
              "      fill: #FFFFFF;\n",
              "    }\n",
              "  </style>\n",
              "\n",
              "      <script>\n",
              "        const buttonEl =\n",
              "          document.querySelector('#df-5944ecf4-923e-4e57-9a6a-07bf801c28e9 button.colab-df-convert');\n",
              "        buttonEl.style.display =\n",
              "          google.colab.kernel.accessAllowed ? 'block' : 'none';\n",
              "\n",
              "        async function convertToInteractive(key) {\n",
              "          const element = document.querySelector('#df-5944ecf4-923e-4e57-9a6a-07bf801c28e9');\n",
              "          const dataTable =\n",
              "            await google.colab.kernel.invokeFunction('convertToInteractive',\n",
              "                                                     [key], {});\n",
              "          if (!dataTable) return;\n",
              "\n",
              "          const docLinkHtml = 'Like what you see? Visit the ' +\n",
              "            '<a target=\"_blank\" href=https://colab.research.google.com/notebooks/data_table.ipynb>data table notebook</a>'\n",
              "            + ' to learn more about interactive tables.';\n",
              "          element.innerHTML = '';\n",
              "          dataTable['output_type'] = 'display_data';\n",
              "          await google.colab.output.renderOutput(dataTable, element);\n",
              "          const docLink = document.createElement('div');\n",
              "          docLink.innerHTML = docLinkHtml;\n",
              "          element.appendChild(docLink);\n",
              "        }\n",
              "      </script>\n",
              "    </div>\n",
              "  </div>\n",
              "  "
            ],
            "text/plain": [
              "   Serial Number  ...           Label\n",
              "0              1  ...     Informative\n",
              "1              2  ...  Non-Actionable\n",
              "2              3  ...  Non-Actionable\n",
              "3              4  ...  Non-Actionable\n",
              "4              5  ...     Informative\n",
              "\n",
              "[5 rows x 4 columns]"
            ]
          },
          "metadata": {},
          "execution_count": 4
        }
      ]
    },
    {
      "cell_type": "code",
      "metadata": {
        "colab": {
          "base_uri": "https://localhost:8080/"
        },
        "id": "oMb0BBKgNXO6",
        "outputId": "0fea030f-43df-4998-e92e-552060da6451"
      },
      "source": [
        "dataset.info()"
      ],
      "execution_count": null,
      "outputs": [
        {
          "output_type": "stream",
          "name": "stdout",
          "text": [
            "<class 'pandas.core.frame.DataFrame'>\n",
            "RangeIndex: 400 entries, 0 to 399\n",
            "Data columns (total 4 columns):\n",
            " #   Column         Non-Null Count  Dtype  \n",
            "---  ------         --------------  -----  \n",
            " 0   Serial Number  400 non-null    int64  \n",
            " 1   Tweet ID       400 non-null    float64\n",
            " 2   Tweet Content  400 non-null    object \n",
            " 3   Label          400 non-null    object \n",
            "dtypes: float64(1), int64(1), object(2)\n",
            "memory usage: 12.6+ KB\n"
          ]
        }
      ]
    },
    {
      "cell_type": "code",
      "metadata": {
        "id": "D24QYaYhwR1L"
      },
      "source": [
        "A = dataset['Tweet Content'].values"
      ],
      "execution_count": null,
      "outputs": []
    },
    {
      "cell_type": "code",
      "metadata": {
        "id": "bBpUpv8MwMDJ"
      },
      "source": [
        "from sklearn.feature_extraction.text import TfidfVectorizer\n",
        " \n",
        "vectorizer=TfidfVectorizer()\n",
        "vectorizer.fit(A)\n",
        "A=vectorizer.transform(A)"
      ],
      "execution_count": null,
      "outputs": []
    },
    {
      "cell_type": "code",
      "metadata": {
        "id": "mGRe3X1Or1sa"
      },
      "source": [
        "mapping_dataCol = {'Non-Actionable':0,'Informative':1,'Debatable':2,'Other Fraud':3,'Party Politics':4,\n",
        "'Actionable':5,'Negative':6}\n",
        "\n",
        "# mapping_dataCol = {'N':0, 'A':1}\n",
        "dataset[\"Label\"]=dataset[\"Label\"].map(mapping_dataCol)"
      ],
      "execution_count": null,
      "outputs": []
    },
    {
      "cell_type": "code",
      "metadata": {
        "colab": {
          "base_uri": "https://localhost:8080/"
        },
        "id": "iunGIAZT6lLH",
        "outputId": "7133ea2c-d670-4be2-d2a4-90e524b8390f"
      },
      "source": [
        "# Non-Actionable\n",
        "sum(dataset['Label'] == 0) "
      ],
      "execution_count": null,
      "outputs": [
        {
          "output_type": "execute_result",
          "data": {
            "text/plain": [
              "206"
            ]
          },
          "metadata": {},
          "execution_count": 9
        }
      ]
    },
    {
      "cell_type": "code",
      "metadata": {
        "colab": {
          "base_uri": "https://localhost:8080/"
        },
        "id": "fNAOGCqN60U4",
        "outputId": "5350c179-7b97-4e3a-e58b-4c57c4f163bb"
      },
      "source": [
        "#Informative\n",
        "sum(dataset['Label'] == 1) "
      ],
      "execution_count": null,
      "outputs": [
        {
          "output_type": "execute_result",
          "data": {
            "text/plain": [
              "96"
            ]
          },
          "metadata": {},
          "execution_count": 10
        }
      ]
    },
    {
      "cell_type": "code",
      "metadata": {
        "colab": {
          "base_uri": "https://localhost:8080/"
        },
        "id": "FhNhBYUk7DKG",
        "outputId": "c5044cf5-7a63-42cc-e1c3-aae6c3c19482"
      },
      "source": [
        "#Debatable\n",
        "sum(dataset['Label'] == 2) "
      ],
      "execution_count": null,
      "outputs": [
        {
          "output_type": "execute_result",
          "data": {
            "text/plain": [
              "35"
            ]
          },
          "metadata": {},
          "execution_count": 11
        }
      ]
    },
    {
      "cell_type": "code",
      "metadata": {
        "colab": {
          "base_uri": "https://localhost:8080/"
        },
        "id": "_yadxXle7FXm",
        "outputId": "fe145f8c-fa0a-4abd-96a5-64df1cebec1f"
      },
      "source": [
        "#Other Frauds\n",
        "sum(dataset['Label'] == 3) "
      ],
      "execution_count": null,
      "outputs": [
        {
          "output_type": "execute_result",
          "data": {
            "text/plain": [
              "22"
            ]
          },
          "metadata": {},
          "execution_count": 12
        }
      ]
    },
    {
      "cell_type": "code",
      "metadata": {
        "colab": {
          "base_uri": "https://localhost:8080/"
        },
        "id": "cBaF9GFd7HVJ",
        "outputId": "8f919876-c3e0-4c14-ebb5-81b42f9a6633"
      },
      "source": [
        "#Party Politics\n",
        "sum(dataset['Label'] == 4) "
      ],
      "execution_count": null,
      "outputs": [
        {
          "output_type": "execute_result",
          "data": {
            "text/plain": [
              "11"
            ]
          },
          "metadata": {},
          "execution_count": 13
        }
      ]
    },
    {
      "cell_type": "code",
      "metadata": {
        "colab": {
          "base_uri": "https://localhost:8080/"
        },
        "id": "OL92ApWn7Lw_",
        "outputId": "b17e37a6-c0b1-42c5-837f-83cbd0ab9956"
      },
      "source": [
        "#Actionable\n",
        "sum(dataset['Label'] == 5) "
      ],
      "execution_count": null,
      "outputs": [
        {
          "output_type": "execute_result",
          "data": {
            "text/plain": [
              "18"
            ]
          },
          "metadata": {},
          "execution_count": 14
        }
      ]
    },
    {
      "cell_type": "code",
      "metadata": {
        "colab": {
          "base_uri": "https://localhost:8080/"
        },
        "id": "eGHv1FtW7OOf",
        "outputId": "9db37147-81cf-4057-eb6b-5caf2e9532f9"
      },
      "source": [
        "#Negative\n",
        "sum(dataset['Label'] == 6) "
      ],
      "execution_count": null,
      "outputs": [
        {
          "output_type": "execute_result",
          "data": {
            "text/plain": [
              "12"
            ]
          },
          "metadata": {},
          "execution_count": 15
        }
      ]
    },
    {
      "cell_type": "code",
      "metadata": {
        "colab": {
          "base_uri": "https://localhost:8080/"
        },
        "id": "FO2E2tpmrP_I",
        "outputId": "80349c1e-50ee-4aec-881d-051d51970c52"
      },
      "source": [
        "dataset[\"Label\"].value_counts()\n"
      ],
      "execution_count": null,
      "outputs": [
        {
          "output_type": "execute_result",
          "data": {
            "text/plain": [
              "0    206\n",
              "1     96\n",
              "2     35\n",
              "3     22\n",
              "5     18\n",
              "6     12\n",
              "4     11\n",
              "Name: Label, dtype: int64"
            ]
          },
          "metadata": {},
          "execution_count": 16
        }
      ]
    },
    {
      "cell_type": "code",
      "metadata": {
        "colab": {
          "base_uri": "https://localhost:8080/"
        },
        "id": "RYCFmkF07PmV",
        "outputId": "be85f890-d9f7-4353-9c19-8b4213200e4c"
      },
      "source": [
        "#To check if any values are NULL or are missing\n",
        "dataset.isnull().sum()"
      ],
      "execution_count": null,
      "outputs": [
        {
          "output_type": "execute_result",
          "data": {
            "text/plain": [
              "Serial Number    0\n",
              "Tweet ID         0\n",
              "Tweet Content    0\n",
              "Label            0\n",
              "dtype: int64"
            ]
          },
          "metadata": {},
          "execution_count": 17
        }
      ]
    },
    {
      "cell_type": "code",
      "metadata": {
        "colab": {
          "base_uri": "https://localhost:8080/"
        },
        "id": "5UH8GGoJ7SKs",
        "outputId": "b3666cd2-d0ac-4524-e212-b9876e18023e"
      },
      "source": [
        "#To check if any values are NULL or are missing in Boolean\n",
        "\n",
        "dataset.isnull().values"
      ],
      "execution_count": null,
      "outputs": [
        {
          "output_type": "execute_result",
          "data": {
            "text/plain": [
              "array([[False, False, False, False],\n",
              "       [False, False, False, False],\n",
              "       [False, False, False, False],\n",
              "       ...,\n",
              "       [False, False, False, False],\n",
              "       [False, False, False, False],\n",
              "       [False, False, False, False]])"
            ]
          },
          "metadata": {},
          "execution_count": 18
        }
      ]
    },
    {
      "cell_type": "code",
      "metadata": {
        "id": "C7LPLCojW5o7"
      },
      "source": [
        "#Taking all the rows and only the Tweet Content Column\n",
        "X = dataset.iloc[:, 2]"
      ],
      "execution_count": null,
      "outputs": []
    },
    {
      "cell_type": "code",
      "metadata": {
        "colab": {
          "base_uri": "https://localhost:8080/"
        },
        "id": "A8LC2QDUX3D_",
        "outputId": "f08e097d-f6fc-4973-efbe-701a5452224d"
      },
      "source": [
        "X.head()"
      ],
      "execution_count": null,
      "outputs": [
        {
          "output_type": "execute_result",
          "data": {
            "text/plain": [
              "0    And if you found something fishy just informed...\n",
              "1    Canada\\u2019s cyber spies taking down sites as...\n",
              "2    @MehHarshil Lol.... Yes, it is true...and you ...\n",
              "3    India would  have  been saved if the politicia...\n",
              "4    Mumbai Covid vaccine scam: Probe says victims ...\n",
              "Name: Tweet Content, dtype: object"
            ]
          },
          "metadata": {},
          "execution_count": 20
        }
      ]
    },
    {
      "cell_type": "code",
      "metadata": {
        "id": "ifJDe6VLYII1"
      },
      "source": [
        "X = X.values"
      ],
      "execution_count": null,
      "outputs": []
    },
    {
      "cell_type": "code",
      "metadata": {
        "id": "hU43BFzbt03T"
      },
      "source": [
        "X = pd.get_dummies(X)"
      ],
      "execution_count": null,
      "outputs": []
    },
    {
      "cell_type": "code",
      "metadata": {
        "colab": {
          "base_uri": "https://localhost:8080/",
          "height": 1000
        },
        "id": "Gpi1W7F2YOyS",
        "outputId": "df00534e-a206-47dd-bdb3-cdc7bad2acf5"
      },
      "source": [
        "X"
      ],
      "execution_count": null,
      "outputs": [
        {
          "output_type": "execute_result",
          "data": {
            "text/html": [
              "\n",
              "  <div id=\"df-343a56cc-c6f3-422c-ba28-f4ba4082f436\">\n",
              "    <div class=\"colab-df-container\">\n",
              "      <div>\n",
              "<style scoped>\n",
              "    .dataframe tbody tr th:only-of-type {\n",
              "        vertical-align: middle;\n",
              "    }\n",
              "\n",
              "    .dataframe tbody tr th {\n",
              "        vertical-align: top;\n",
              "    }\n",
              "\n",
              "    .dataframe thead th {\n",
              "        text-align: right;\n",
              "    }\n",
              "</style>\n",
              "<table border=\"1\" class=\"dataframe\">\n",
              "  <thead>\n",
              "    <tr style=\"text-align: right;\">\n",
              "      <th></th>\n",
              "      <th>\"@BAMPI The scam is too much anybody coming into Nigeria is required to pay for Covid 19 test 51k and their is no follow up to know if you have the test or not they are only bothered about the 51k they're collecting\"</th>\n",
              "      <th>\"How a pastor's spread of Covid misinformation divided one Tennessee family\\\"\\nPastor Greg Locke has grown his congregation over the last year by preaching that Covid-19 is a \\\"fake pandemic\\\" and the vaccine is a scam. https://t.co/qdHVXgyeOP</th>\n",
              "      <th>#BaldwinPark School District employee arraigned for workers\\u2019 compensation #insurance fraud after COVID-19 diagnosis. Investigation uncovers that suspect vacationed in Lake Havasu &amp;amp; feigned symptoms while supposedly self-quarantined.\\n\\nMore info: https://t.co/1EP16AaSjR</th>\n",
              "      <th>#Beware of calls/SMSes seeking your details like Aadhaar no., E-mail ID, OTP etc. for COVID-19 vaccine registration. This may lead to financial fraud.\\n@dgpgujarat @GujaratPolice\\n@cybercrimejnd @Cyberdost \\n@SP_EastKutch @SPWestKutch\\n\\n#AlertFakeNews</th>\n",
              "      <th>#Covid-19Vaccine Booking For Rs 500 FAKE! Madhya Pradesh Police Issues Alert Against Fraud Calls\\n\\n#CoronaVaccine #COVID19\\n\\nhttps://t.co/qnTeb30vqA</th>\n",
              "      <th>#DNASpecial | How Mumbai's housing societies got embroiled in #COVID19 vaccine scam\\n\\n#vaccinescam #Covid_19 #coronavirus \\n\\n@sudhirchaudhary \\n\\nhttps://t.co/vt8S3yzA2X</th>\n",
              "      <th>#Don't let #COVID-19 infect you with #Frauds and #Vaccine #scams\\n#Avoidfrauds #StaySafe #LiyaansProperties #MaheshSomani. https://t.co/mognLFxLk6</th>\n",
              "      <th>#EPA Works Against COVID-19 Disinfectant Scams https://t.co/oJ45lwm0VJ via @EHSDailyAdv</th>\n",
              "      <th>#FPJFrontPage\\n\\n- Maha Govt inclined to provide free Covid vaccine\\n- State govt health cover for Covid\\n- Infamous Karan Johar party video is under NCB lens\\n- Death rate 52 pc less in Nov-Dec than Oct-Nov\\n- TRP scam: Former BARC official arrested\\n\\nRead more: https://t.co/AQK92Sesab https://t.co/NCKxuzSXDP</th>\n",
              "      <th>#ICYMI: Tonight at 6 p.m. we'll be going live for our \\\"COVID-19 Scams and Other Fraudulent Schemes: How to Stay One Step Ahead of the Scammers\\\" virtual event. Join us on our Facebook or at the live link available on our page detailing the event here: https://t.co/wulmDEEph6 https://t.co/8GDriUWjmu</th>\n",
              "      <th>#IRDAI My husband @aditya12789 was diagnosed with COVID 19 on 14th December and we had availed Covid Rakshak policy from @Future_Generali . His claim is being rejected thrice on baseless grounds. How inhuman can @Future_Generali get? #Covid19 #insurance #fraud</th>\n",
              "      <th>#TaxPros: Stay alert to new phishing scams that try to take advantage of COVID-19, Economic Impact Payments and increased teleworking by practitioners. https://t.co/jxl2DWVpyM #IRS https://t.co/EfDMPEFUMi</th>\n",
              "      <th>#Vaccination scam in #Mumbai housing society, residents claim fake vaccines given\\n\\n#FakeVaccination #vaccine #VaccineScam #COVID19 #Covid_19 #coronavirus \\n\\nhttps://t.co/TOWUmx8SfM</th>\n",
              "      <th>#cybercrime : https://t.co/QYevhrIHfF Avoiding COVID-19 vaccine passport scams - https://t.co/oFIi1vouX4 - https://t.co/oFIi1vouX4</th>\n",
              "      <th>*Liberals Logic*\\n\\nIf Modi ji takes Vaccine first: What about COVID warriors, Dalits and Musl/ms ? \\n\\nIf Modi ji doesn't take Vaccine: Vaccine is a scam. Vaccine is not halal. It will make minority impotent.</th>\n",
              "      <th>*Scam for COVID Vaccine* has started in India: Senior citizens are getting a call from the so called \\u201c Drug Authority of India\\u201d and telling them that their vaccine allocation is ready. Then they confirm the adhaar and ask for your *OTP*. Based on that they access</th>\n",
              "      <th>2020 may be over, but COVID-19 vaccine scams are coming with us in 2021. The @BBB_us says you can check with your doc or official government websites to avoid scams. Vid credit: @WBNG12News #insurance #fraud #insurancefraud https://t.co/gtqKH6jDs0</th>\n",
              "      <th>5 COVID patients died in Jalgaon due to lack of oxygen. 1 year into COVID &amp;amp; @OfficeofUT @rajeshtope11 can't even manage the basic health facility needed. Only busy with scams &amp;amp; extortion.\\n\\n\\u0911\\u0915\\u094d\\u0938\\u093f\\u091c\\u0928 \\u0928 \\u092e\\u093f\\u0933\\u093e\\u0932\\u094d\\u092f\\u093e\\u0928\\u0947 \\u090f\\u0915\\u093e\\u091a \\u0926\\u093f\\u0935\\u0936\\u0940 \\u092a\\u093e\\u091a \\u0915\\u094b\\u0930\\u094b\\u0928\\u093e\\u092c\\u093e\\u0927\\u093f\\u0924 \\u0930\\u0941\\u0917\\u094d\\u0923\\u093e\\u0902\\u091a\\u093e \\u092e\\u0943\\u0924\\u094d\\u092f\\u0942\\n\\nhttps://t.co/yw0qBd2Ksq</th>\n",
              "      <th>98% of countries have below 20 Covid deaths a day. The other 2% are between 21 - 495. The scam is so real.</th>\n",
              "      <th>@30kKozak19 @Saurabh32505969 @Sidisdabest @SaketGokhale Hi I\\u2019m modiji. I\\u2019m shameless. I am using COVID 19 as an excuse to scam people. I never placed orders for vaccines in advance. World was depending on India for more vaccine production but hahahahaha now I\\u2019m importing. I used to kill by riots. Now I kill with incompetence.</th>\n",
              "      <th>@Akash_Singh_22 @DeshbhaktN @VeeryaSorry Here is the proof where pm cares fund is going ,vaccines and COVID tests are free in govt hospitals born by pm cares fund .\\n\\nSince independence this is the only govt without scams and corruption,even opposition won\\u2019t allege that pm is corrupt .\\n\\nhttps://t.co/QjAmLKxiLf</th>\n",
              "      <th>@AmazonHelp @JeffBezos    \\nAs u informed earlier i dnt thnk u have taken the feedback my 5 items got cancelled in 2days...? Do u really wana work? Or Covid has made u lazy?Many indian Amazon services are with fraud sellers.. i want an action now nt feedback @AmitAgarwal u really use twitter? https://t.co/nnp6Ri6HDr</th>\n",
              "      <th>@AudaciousQuest_ If Congress has been in power, we would have got the vaccine dose for Rs 2500 and that too imported from China. \\n\\n2025 mein ek naya scam aata samne fir Covid Vaccine Scam.\\n\\nRahul Gandhi for President Prime Minister of the World. Yay !!\\n\\nhttps://t.co/nWTM8UnRgp</th>\n",
              "      <th>@BBCNews Funny enough, I\\u2019ve always said this, COVID isn\\u2019t killing anywhere near as much as flu or cancer. It\\u2019s just a scam now, \\u201cso\\u201d sorry Sir Rocco Forte your wrong!</th>\n",
              "      <th>@BJP4UP UP dhalaan ki aur...rapes, scams, killings, murders, no health facilities, no free covid vaccines, corruption at its peak, no administration, leaders r involved in criminal activities, no plan for poor and middle class ppl, extortion, etc..</th>\n",
              "      <th>@Being_Humor @Hardikdjrp Bhai Vaccine toh dur ki baat Mask aur PPE kit b import karne padte aur vaccine b china se aati aur scams ki list lag jaati like:\\n1.Mask Scam\\n2.PPE kit Scam\\n3.Oxygen Scam\\n4. Vaccine Scam\\n5.Ventilator Scam\\n6.Covid Center Scam.</th>\n",
              "      <th>@BenRabidoux Brampton, home of:\\n\\u2022 auto insurance fraud\\n\\u2022 mortgage fraud\\n\\u2022 COVID-19 document fraud\\n\\nWhat else to add on the list??</th>\n",
              "      <th>@BloreVaccine I feel this is another Scam happening in booking vaccine slot on the portal like how it was in booking beds for Covid Patient. Govt should bring alternative for this . The slot for vaccine disappear in 10 sec . @Tejasvi_Surya @BSYBJP @CTRavi_BJP @BBMPCOMM @BbmpEast #COVID19</th>\n",
              "      <th>@BrendaLeeNY @realDonaldTrump The united states population is 340 million.. 8 million of those people are infected. 240 thousand of those people who have died have had some form of condition. That's a cat scratch compared to the plague. Covid \\\"scam\\\" 19 is a joke.</th>\n",
              "      <th>@CDCgov Jokes on all of you cause they\\u2019re not even vaccines! Throughout the covid-19 scandal, the CDC has used an onslaught of medical fraud to deprive people of their civil liberties and to advance new mRNA \\u201cvaccine\\u201d experiments on humans.</th>\n",
              "      <th>@CPBlr Also give stats on how many scams  handled on Remdisvir medicine black marketing supply /vaccines rerouting to some hospitals, violation on rates fixed for covid treatment,  fake demand on necessities.</th>\n",
              "      <th>@Cat_Wright_ Because apparently Covid knows the time and date of when the gov impose these rules \\ud83d\\ude01\\ud83d\\ude01\\ud83d\\ude02 but personally it's because it all a scam \\ud83e\\udd18\\ud83c\\udffb</th>\n",
              "      <th>@ClientRss @latimeralder Look up The Great Reset.\\n\\nCovid is a complete scam!\\n\\nIt the latest incarnation of flu!</th>\n",
              "      <th>@CongressmanRaja @RepMaloney @WhipClyburn @OversightDems @realDonaldTrump Thank you for your work on exposing Trump grifting the American taxpayer for his tawdry campaign plans to scam Covid money earmarked for Covid education!!!  Despicable!</th>\n",
              "      <th>@DGCAIndia how can we decide our travel by March 2021. Money stuck in credit shell, vaccine updates are not concrete and we can\\u2019t take a risk of travelling by March 2021. Is it another scam after COVID to wipe out our money ?</th>\n",
              "      <th>@DeeEternalOpt @jai_amma @nanduperfint what do u mean when u say COVID is a scam?\\nDoes it mean that the Sars-COV-2 Virus does not exist?\\nDoes it mean that COVID-19 is a relabeled disease?\\nDoes it mean that COVID is being spread though Vaccines?</th>\n",
              "      <th>@DeepikaBhardwaj @DelhiPolice What is efficiency? \\nLook for flow rate of oxygen. It is clear that Covid patients need about 30 to 60 ltr / minute flow. \\nMost concentrators are 5 ltr / minute. I think it is a scam. No one wants to speak about it as people are busy making money.</th>\n",
              "      <th>@DelhiPolice A man named masood Hashim, a resident of janta flat, Sector 11 Jasola is giving fake covid report to people and charging hefty amounts. His number is +91 92641 98786. Please do the needful. #covidfraud #DelhiPolice https://t.co/xm7lXgX5lZ</th>\n",
              "      <th>@DrAMSinghvi @narendramodi is doing his best. He has handled covid,vaccine issue nicely. If it were not for BJP govt,we would have been talking black market price of vaccine&amp;amp; someone would have spun another 100,000 crores vaccine scam.</th>\n",
              "      <th>@DwaineHutton @ConorMackle @JulieACorr You are bound to know the school Kilkeel High AND St. Louis as well. They were shut and the upper 6th all had to self isolate... It's rediculous when people want proof all the time everything covid isn't a scam. We are all extremely worried parents and grandparents.</th>\n",
              "      <th>...</th>\n",
              "      <th>US lawmaker indicted on federal fraud charges for falsely promoting a treatment as having stem cells to help with COVID-19 and other illnesses has been asked to resign.\\n\\nhttps://t.co/tERSmwrwa8</th>\n",
              "      <th>USDOL reports unemployment insurance fraud is at an all-time high during COVID-19. If you suspect an UI claim has been filed under your name, tell:\\n1. your state workforce agency: https://t.co/wLK0CpoPNT\\n2. your employer\\n3. Nat\\u2019l Center for Disaster Fraud: https://t.co/IdILsIZNVE https://t.co/NrbOzgp09l</th>\n",
              "      <th>Unemployed insurance fraud has been rampant throughout the COVID-19 pandemic. This @chicagotribune article reports on the latest #robotext scam targeting Illinois residents. https://t.co/R3QLDfqdbZ</th>\n",
              "      <th>Unemployment Insurance Fraud and Social Security: Scammers are using the COVID-19 pandemic as an opportunity to file fraudulent unemployment claims, often using someone else\\u2019s identity. Scammers may even use the identity of\\u2026 https://t.co/uDacSRN1Do #elderlyordisabledliving</th>\n",
              "      <th>Unemployment insurance fraud in the US is on the rise again! Threat actors are now exploiting government departments providing COVID-19 relief funds. \\n\\nhttps://t.co/xSzHHQwn1f\\n\\n#technology #tech #AI #Insurtech #UnitedStates #Digital #ShuftiPro https://t.co/v4BJHSZfTf</th>\n",
              "      <th>University is probably the biggest scam. Especially now with this covid thing.</th>\n",
              "      <th>Vaccination Scam: Residents of a Housing Society in Mumbai suspect of getting Fake Covid-19 Vaccine Shots\\n\\n#india #national #mumbai #Mumbai #crime #vaccine #vaccination #COVID19 #Covid19Vaccination #scam #fraud #VaccinationScam #Covishield #Covaxin\\n\\nhttps://t.co/KSGHH2G33e</th>\n",
              "      <th>Vaccine 'scam': Congress spokesperson @drajoykumar says Punjab govt has withdrawn the order to sell Covid jabs to private hospitals at hefty margins. BJP spokesperson @rpsinghkhalsa says the scam is much bigger. #Newstrack https://t.co/YHn9fkgods</th>\n",
              "      <th>Ventilator/Vaccine sold to pvt hospital - Cong state\\n\\nMask-remdesivir Scam Reported - Cong states\\n\\nMaximum wastage reported - Congress states\\n\\nVaccine in dumpyard - Cong state\\n\\nTop in Covid deaths &amp;amp; cases - Cong states\\n\\nINC is the route cause of all problems\\n#CongressVaccineScam</th>\n",
              "      <th>WARNING: Do not keep or share empty #COVID19 vials, containers, or packaging as souvenirs. COVID-19 vaccine-related materials can be repurposed to commit fraud. If you suspect health care fraud, please report it  to https://t.co/jVmUOjHmsG or to your #SeniorMedicarePatrol. https://t.co/jdFKBqWJaF</th>\n",
              "      <th>Want to share a bit of what\\u2019s been going on recently. My husband, daughter and I caught Covid in a daycare outbreak. 15 kids got sick, along with nearly all of the teachers  and a bunch of parents. (thread...)</th>\n",
              "      <th>Ways to avoid covid vaccine scams. #COVID\\u30fc19 #vaccine #vaccination #scams #NoVaccinePassports #thursdayvibes #StaySafe #StayHealthy #GodMorningThursday #CoronavirusPandemic https://t.co/l30mCNNZwP</th>\n",
              "      <th>We are facing unprecedented challenges related to #Unemployment Insurance Fraud. @KSSHRM has all of the COVID-19 resources you need @ https://t.co/LYA092iT1X. https://t.co/p9WmI19dZw</th>\n",
              "      <th>We had Father obstacle , bipolar obstacle , insurance fraud obstacle and now covid 19 . Once Meredith recovers . Please Grey\\u2019s writers  can we have a least a couple of episodes of smooth sailing Merluca .  Benly and amelink are on smooth waters</th>\n",
              "      <th>We need no more distractions with MerLuca . We had dad issues , insurance fraud issues , mental Heath realizing we had and now Covid 19 . Once Meredith heals we need some  MerLuca loven . Hayes better stay away not get in the way . #GreysAnatomy</th>\n",
              "      <th>We pay insurance, insurance pays out claims, hospitals make claims that pay higher amounts if Covid-19 is involved...we\\u2019re basically paying to lockdown ourselves and ruin America because of insurance fraud</th>\n",
              "      <th>We will like to reassure you that our operations continue as normal.  As we navigate through COVID-19, we are ensuring that critical functions like Information Technology, Cyber Security, Fraud Prevention, Digital Services are well protected.</th>\n",
              "      <th>We\\u2019ve been telling you about scammers turning to unemployment insurance fraud during the COVID-19 pandemic. We meet two victims whose personal information has been stolen and they want it straightened out. https://t.co/ROvWfnVmyP</th>\n",
              "      <th>What's stunning is that if @realDonaldTrump had responded to COVID with serious policies, as other leaders did, he'd be coasting to re-election now. But he's incapable of responsible behavior. His mind only goes to scams, leaving his campaign-- and the nation-- in shambles.</th>\n",
              "      <th>What's the Truth?\\nWhile the news of Second Covid wave is in rage, the special Covid centres remain vacant. Hospital beds are available and OPDs are reporting major cases of viral infections. Is it another Pharma scam.The vaccine needs to be in demand and short supply.. Right??</th>\n",
              "      <th>WhatsApp Scam Alert: COVID-19 Vaccine Feedback Call From the Number 91...\\nhttps://t.co/HpvzMKXde0</th>\n",
              "      <th>While vaccine development has been a huge success, pharma must now stop the public from being ensnared by COVID-19 schemes or scams. \\n\\nWe consider ways in which the industry can collaborate with governments to prevent #vaccine fraud. https://t.co/1vNls2SpAK\\n\\n#toldbyGOLD #COVID19 https://t.co/ahtB1KpFu</th>\n",
              "      <th>With Americans filing claims for unemployment benefits in record numbers, unemployment insurance fraud in the U.S. has reached dramatic levels during the COVID-19 #pandemic https://t.co/6f5uTggLxp #Unemployment #Fraud #IDTheft https://t.co/Ob2Ir6Mc7v</th>\n",
              "      <th>With more people receiving their COVID-19 vaccination, scammers are using YOUR PHONE to try to steal your identity! Insurance Commissioner Mike Causey urges you to learn more about #robocalls &amp;amp; protect yourself from being a victim of #insurancefraud.\\nMORE: https://t.co/yQl4ySRnyI https://t.co/ok4Ec4QfxR</th>\n",
              "      <th>\\\"Facebook\\u2019s algorithms have coaxed many Americans into sharing more extreme views on the platform \\u2014 rewarding them with likes and shares for posts on subjects like election fraud conspiracies, Covid-19 denialism and anti-vaccination rhetoric.\\\" https://t.co/DCD8vQcB1K</th>\n",
              "      <th>\\u2018A fraud on the nation\\u2019: critics blast Indian government\\u2019s promotion of traditional medicine for COVID-19 https://t.co/VDDo7vdQPP</th>\n",
              "      <th>\\u201cGet Covid Vaccine Early, Register For Rs 500\\u201d: Scam Calls In Bhopal | In\\u00a0Hindi. https://t.co/326ZpFYvlT</th>\n",
              "      <th>\\ud83d\\udea8SCAM ALERT\\ud83d\\udea8 If anyone reaches out after you've gotten a COVID-19 vaccine asking you to fill out a survey, \\ud83c\\udfc3\\u200d\\u2640\\ufe0fRUN and report it to #SCDCA at https://t.co/9k4MoURAtU. #TellDCA\\n\\nScammers are looking to get your personal and financial information through these \\\"surveys.\\\" https://t.co/vwGmwD2Y6M</th>\n",
              "      <th>\\ud83d\\udea8\\ud83d\\udea8 NEW SCAM ALERT \\ud83d\\udea8\\ud83d\\udea8\\n\\nA new trend has been observed where fraudsters are calling for registration of COVID-19 vaccine. Please DO NOT fall into their trap.\\n\\nShare and let your friends and family know.\\n\\n#COVID19 #vaccine #fraud #scammers #cybercrimes #cyberlaw #NewScamAlert https://t.co/d6WkfbagSw</th>\n",
              "      <th>corona vaccination scam news mumbai, kandivali society cheated by the name of Covid-19 vaccine | Mumbai \\u092e\\u0947\\u0902 Corona Vaccination Scam \\u0915\\u093e \\u0906\\u0930\\u094b\\u092a, \\u0915\\u0908 \\u0926\\u093f\\u0928 \\u092c\\u093e\\u0926 \\u0939\\u0941\\u0906 \\u0920\\u0917\\u0940 \\u0915\\u093e\\u00a0\\u0916\\u0941\\u0932\\u093e\\u0938\\u093e https://t.co/ZwtAmwOOBy</th>\n",
              "      <th>covid test swabs-scam\\noxygen-scam\\nhospital beds-scam\\nRemidesivir-scam\\n\\nAne we call ourselves a dharmik country.. What a joke.</th>\n",
              "      <th>do not fall victim to the covid scam, and do not expect these hospital emergency rooms to tell you the f****** truth about anything...</th>\n",
              "      <th>guys my friend's mom was down with covid 19 he saw remdesivir was available through indiamart and they have ordered to ship it from delhi to chennai and they have asked 50000 per dose and when he contacted the medical shop mentioned in the page he found it was a scam</th>\n",
              "      <th>https://t.co/eeWfEJvka9\\n\\nLooks like scam for selling COVID-19 vaccine in Pakistan with no MRP. This is done for 6 months by the Pak cabinet of IKN. \\ud83d\\ude06\\ud83d\\ude06\\ud83d\\ude06</th>\n",
              "      <th>https://t.co/gUqXToh6q5 helps stop unemployment insurance fraud: BOISE \\u2014 Crime rings across the globe are exploiting the COVID-19 crisis by attempting to commit large-scale fraud against multiple state\\u00a0... https://t.co/Yrl2rmiYhe #fraud #scam</th>\n",
              "      <th>https://t.co/ik91LsWMUY \\nThe COVID-19 vaccine maker Pfizer in 2009, had to pay $2.3 billion in the largest healthcare fraud settlement in history to resolve criminal and civil liability arising from the illegal promotion of certain pharmaceutical products. https://t.co/eAPH2DMqrX</th>\n",
              "      <th>just seen a video exposing covid and i tried to retweet and it disappered right in front of me i wonder why is it because it is the truth covid is a lie and a political scam</th>\n",
              "      <th>n #Gravitas with @palkisu:\\n\\n+ Pak Parliament: Mass resignation?\\n\\n+ Vaccine rollout\\n\\n+ China: Virus came from Australia!\\n\\n+ @JustinTrudeau caught in a #COVID aid scam?\\n\\n+ Israeli scientist: \\\"Aliens found, contacted\\\" https://t.co/b7E4REqqFP</th>\n",
              "      <th>nypost Psychopath funds the fear of an illegitimate threat. Covid-19 vaccines are a fraud &amp;amp; crime against humanity.\\n\\nAdd the math to Epstein? Satanism. https://t.co/s7CTz0s5ov</th>\n",
              "      <th>why SC has appointed 12 members to look after covid situation his hardwork everywhere no oxygen no bed no vaccine no ration only VISTA &amp;amp; HIS OWN PALACE rafeal 30.000 Crore scam its his hardwork yes</th>\n",
              "    </tr>\n",
              "  </thead>\n",
              "  <tbody>\n",
              "    <tr>\n",
              "      <th>0</th>\n",
              "      <td>0</td>\n",
              "      <td>0</td>\n",
              "      <td>0</td>\n",
              "      <td>0</td>\n",
              "      <td>0</td>\n",
              "      <td>0</td>\n",
              "      <td>0</td>\n",
              "      <td>0</td>\n",
              "      <td>0</td>\n",
              "      <td>0</td>\n",
              "      <td>0</td>\n",
              "      <td>0</td>\n",
              "      <td>0</td>\n",
              "      <td>0</td>\n",
              "      <td>0</td>\n",
              "      <td>0</td>\n",
              "      <td>0</td>\n",
              "      <td>0</td>\n",
              "      <td>0</td>\n",
              "      <td>0</td>\n",
              "      <td>0</td>\n",
              "      <td>0</td>\n",
              "      <td>0</td>\n",
              "      <td>0</td>\n",
              "      <td>0</td>\n",
              "      <td>0</td>\n",
              "      <td>0</td>\n",
              "      <td>0</td>\n",
              "      <td>0</td>\n",
              "      <td>0</td>\n",
              "      <td>0</td>\n",
              "      <td>0</td>\n",
              "      <td>0</td>\n",
              "      <td>0</td>\n",
              "      <td>0</td>\n",
              "      <td>0</td>\n",
              "      <td>0</td>\n",
              "      <td>0</td>\n",
              "      <td>0</td>\n",
              "      <td>0</td>\n",
              "      <td>...</td>\n",
              "      <td>0</td>\n",
              "      <td>0</td>\n",
              "      <td>0</td>\n",
              "      <td>0</td>\n",
              "      <td>0</td>\n",
              "      <td>0</td>\n",
              "      <td>0</td>\n",
              "      <td>0</td>\n",
              "      <td>0</td>\n",
              "      <td>0</td>\n",
              "      <td>0</td>\n",
              "      <td>0</td>\n",
              "      <td>0</td>\n",
              "      <td>0</td>\n",
              "      <td>0</td>\n",
              "      <td>0</td>\n",
              "      <td>0</td>\n",
              "      <td>0</td>\n",
              "      <td>0</td>\n",
              "      <td>0</td>\n",
              "      <td>0</td>\n",
              "      <td>0</td>\n",
              "      <td>0</td>\n",
              "      <td>0</td>\n",
              "      <td>0</td>\n",
              "      <td>0</td>\n",
              "      <td>0</td>\n",
              "      <td>0</td>\n",
              "      <td>0</td>\n",
              "      <td>0</td>\n",
              "      <td>0</td>\n",
              "      <td>0</td>\n",
              "      <td>0</td>\n",
              "      <td>0</td>\n",
              "      <td>0</td>\n",
              "      <td>0</td>\n",
              "      <td>0</td>\n",
              "      <td>0</td>\n",
              "      <td>0</td>\n",
              "      <td>0</td>\n",
              "    </tr>\n",
              "    <tr>\n",
              "      <th>1</th>\n",
              "      <td>0</td>\n",
              "      <td>0</td>\n",
              "      <td>0</td>\n",
              "      <td>0</td>\n",
              "      <td>0</td>\n",
              "      <td>0</td>\n",
              "      <td>0</td>\n",
              "      <td>0</td>\n",
              "      <td>0</td>\n",
              "      <td>0</td>\n",
              "      <td>0</td>\n",
              "      <td>0</td>\n",
              "      <td>0</td>\n",
              "      <td>0</td>\n",
              "      <td>0</td>\n",
              "      <td>0</td>\n",
              "      <td>0</td>\n",
              "      <td>0</td>\n",
              "      <td>0</td>\n",
              "      <td>0</td>\n",
              "      <td>0</td>\n",
              "      <td>0</td>\n",
              "      <td>0</td>\n",
              "      <td>0</td>\n",
              "      <td>0</td>\n",
              "      <td>0</td>\n",
              "      <td>0</td>\n",
              "      <td>0</td>\n",
              "      <td>0</td>\n",
              "      <td>0</td>\n",
              "      <td>0</td>\n",
              "      <td>0</td>\n",
              "      <td>0</td>\n",
              "      <td>0</td>\n",
              "      <td>0</td>\n",
              "      <td>0</td>\n",
              "      <td>0</td>\n",
              "      <td>0</td>\n",
              "      <td>0</td>\n",
              "      <td>0</td>\n",
              "      <td>...</td>\n",
              "      <td>0</td>\n",
              "      <td>0</td>\n",
              "      <td>0</td>\n",
              "      <td>0</td>\n",
              "      <td>0</td>\n",
              "      <td>0</td>\n",
              "      <td>0</td>\n",
              "      <td>0</td>\n",
              "      <td>0</td>\n",
              "      <td>0</td>\n",
              "      <td>0</td>\n",
              "      <td>0</td>\n",
              "      <td>0</td>\n",
              "      <td>0</td>\n",
              "      <td>0</td>\n",
              "      <td>0</td>\n",
              "      <td>0</td>\n",
              "      <td>0</td>\n",
              "      <td>0</td>\n",
              "      <td>0</td>\n",
              "      <td>0</td>\n",
              "      <td>0</td>\n",
              "      <td>0</td>\n",
              "      <td>0</td>\n",
              "      <td>0</td>\n",
              "      <td>0</td>\n",
              "      <td>0</td>\n",
              "      <td>0</td>\n",
              "      <td>0</td>\n",
              "      <td>0</td>\n",
              "      <td>0</td>\n",
              "      <td>0</td>\n",
              "      <td>0</td>\n",
              "      <td>0</td>\n",
              "      <td>0</td>\n",
              "      <td>0</td>\n",
              "      <td>0</td>\n",
              "      <td>0</td>\n",
              "      <td>0</td>\n",
              "      <td>0</td>\n",
              "    </tr>\n",
              "    <tr>\n",
              "      <th>2</th>\n",
              "      <td>0</td>\n",
              "      <td>0</td>\n",
              "      <td>0</td>\n",
              "      <td>0</td>\n",
              "      <td>0</td>\n",
              "      <td>0</td>\n",
              "      <td>0</td>\n",
              "      <td>0</td>\n",
              "      <td>0</td>\n",
              "      <td>0</td>\n",
              "      <td>0</td>\n",
              "      <td>0</td>\n",
              "      <td>0</td>\n",
              "      <td>0</td>\n",
              "      <td>0</td>\n",
              "      <td>0</td>\n",
              "      <td>0</td>\n",
              "      <td>0</td>\n",
              "      <td>0</td>\n",
              "      <td>0</td>\n",
              "      <td>0</td>\n",
              "      <td>0</td>\n",
              "      <td>0</td>\n",
              "      <td>0</td>\n",
              "      <td>0</td>\n",
              "      <td>0</td>\n",
              "      <td>0</td>\n",
              "      <td>0</td>\n",
              "      <td>0</td>\n",
              "      <td>0</td>\n",
              "      <td>0</td>\n",
              "      <td>0</td>\n",
              "      <td>0</td>\n",
              "      <td>0</td>\n",
              "      <td>0</td>\n",
              "      <td>0</td>\n",
              "      <td>0</td>\n",
              "      <td>0</td>\n",
              "      <td>0</td>\n",
              "      <td>0</td>\n",
              "      <td>...</td>\n",
              "      <td>0</td>\n",
              "      <td>0</td>\n",
              "      <td>0</td>\n",
              "      <td>0</td>\n",
              "      <td>0</td>\n",
              "      <td>0</td>\n",
              "      <td>0</td>\n",
              "      <td>0</td>\n",
              "      <td>0</td>\n",
              "      <td>0</td>\n",
              "      <td>0</td>\n",
              "      <td>0</td>\n",
              "      <td>0</td>\n",
              "      <td>0</td>\n",
              "      <td>0</td>\n",
              "      <td>0</td>\n",
              "      <td>0</td>\n",
              "      <td>0</td>\n",
              "      <td>0</td>\n",
              "      <td>0</td>\n",
              "      <td>0</td>\n",
              "      <td>0</td>\n",
              "      <td>0</td>\n",
              "      <td>0</td>\n",
              "      <td>0</td>\n",
              "      <td>0</td>\n",
              "      <td>0</td>\n",
              "      <td>0</td>\n",
              "      <td>0</td>\n",
              "      <td>0</td>\n",
              "      <td>0</td>\n",
              "      <td>0</td>\n",
              "      <td>0</td>\n",
              "      <td>0</td>\n",
              "      <td>0</td>\n",
              "      <td>0</td>\n",
              "      <td>0</td>\n",
              "      <td>0</td>\n",
              "      <td>0</td>\n",
              "      <td>0</td>\n",
              "    </tr>\n",
              "    <tr>\n",
              "      <th>3</th>\n",
              "      <td>0</td>\n",
              "      <td>0</td>\n",
              "      <td>0</td>\n",
              "      <td>0</td>\n",
              "      <td>0</td>\n",
              "      <td>0</td>\n",
              "      <td>0</td>\n",
              "      <td>0</td>\n",
              "      <td>0</td>\n",
              "      <td>0</td>\n",
              "      <td>0</td>\n",
              "      <td>0</td>\n",
              "      <td>0</td>\n",
              "      <td>0</td>\n",
              "      <td>0</td>\n",
              "      <td>0</td>\n",
              "      <td>0</td>\n",
              "      <td>0</td>\n",
              "      <td>0</td>\n",
              "      <td>0</td>\n",
              "      <td>0</td>\n",
              "      <td>0</td>\n",
              "      <td>0</td>\n",
              "      <td>0</td>\n",
              "      <td>0</td>\n",
              "      <td>0</td>\n",
              "      <td>0</td>\n",
              "      <td>0</td>\n",
              "      <td>0</td>\n",
              "      <td>0</td>\n",
              "      <td>0</td>\n",
              "      <td>0</td>\n",
              "      <td>0</td>\n",
              "      <td>0</td>\n",
              "      <td>0</td>\n",
              "      <td>0</td>\n",
              "      <td>0</td>\n",
              "      <td>0</td>\n",
              "      <td>0</td>\n",
              "      <td>0</td>\n",
              "      <td>...</td>\n",
              "      <td>0</td>\n",
              "      <td>0</td>\n",
              "      <td>0</td>\n",
              "      <td>0</td>\n",
              "      <td>0</td>\n",
              "      <td>0</td>\n",
              "      <td>0</td>\n",
              "      <td>0</td>\n",
              "      <td>0</td>\n",
              "      <td>0</td>\n",
              "      <td>0</td>\n",
              "      <td>0</td>\n",
              "      <td>0</td>\n",
              "      <td>0</td>\n",
              "      <td>0</td>\n",
              "      <td>0</td>\n",
              "      <td>0</td>\n",
              "      <td>0</td>\n",
              "      <td>0</td>\n",
              "      <td>0</td>\n",
              "      <td>0</td>\n",
              "      <td>0</td>\n",
              "      <td>0</td>\n",
              "      <td>0</td>\n",
              "      <td>0</td>\n",
              "      <td>0</td>\n",
              "      <td>0</td>\n",
              "      <td>0</td>\n",
              "      <td>0</td>\n",
              "      <td>0</td>\n",
              "      <td>0</td>\n",
              "      <td>0</td>\n",
              "      <td>0</td>\n",
              "      <td>0</td>\n",
              "      <td>0</td>\n",
              "      <td>0</td>\n",
              "      <td>0</td>\n",
              "      <td>0</td>\n",
              "      <td>0</td>\n",
              "      <td>0</td>\n",
              "    </tr>\n",
              "    <tr>\n",
              "      <th>4</th>\n",
              "      <td>0</td>\n",
              "      <td>0</td>\n",
              "      <td>0</td>\n",
              "      <td>0</td>\n",
              "      <td>0</td>\n",
              "      <td>0</td>\n",
              "      <td>0</td>\n",
              "      <td>0</td>\n",
              "      <td>0</td>\n",
              "      <td>0</td>\n",
              "      <td>0</td>\n",
              "      <td>0</td>\n",
              "      <td>0</td>\n",
              "      <td>0</td>\n",
              "      <td>0</td>\n",
              "      <td>0</td>\n",
              "      <td>0</td>\n",
              "      <td>0</td>\n",
              "      <td>0</td>\n",
              "      <td>0</td>\n",
              "      <td>0</td>\n",
              "      <td>0</td>\n",
              "      <td>0</td>\n",
              "      <td>0</td>\n",
              "      <td>0</td>\n",
              "      <td>0</td>\n",
              "      <td>0</td>\n",
              "      <td>0</td>\n",
              "      <td>0</td>\n",
              "      <td>0</td>\n",
              "      <td>0</td>\n",
              "      <td>0</td>\n",
              "      <td>0</td>\n",
              "      <td>0</td>\n",
              "      <td>0</td>\n",
              "      <td>0</td>\n",
              "      <td>0</td>\n",
              "      <td>0</td>\n",
              "      <td>0</td>\n",
              "      <td>0</td>\n",
              "      <td>...</td>\n",
              "      <td>0</td>\n",
              "      <td>0</td>\n",
              "      <td>0</td>\n",
              "      <td>0</td>\n",
              "      <td>0</td>\n",
              "      <td>0</td>\n",
              "      <td>0</td>\n",
              "      <td>0</td>\n",
              "      <td>0</td>\n",
              "      <td>0</td>\n",
              "      <td>0</td>\n",
              "      <td>0</td>\n",
              "      <td>0</td>\n",
              "      <td>0</td>\n",
              "      <td>0</td>\n",
              "      <td>0</td>\n",
              "      <td>0</td>\n",
              "      <td>0</td>\n",
              "      <td>0</td>\n",
              "      <td>0</td>\n",
              "      <td>0</td>\n",
              "      <td>0</td>\n",
              "      <td>0</td>\n",
              "      <td>0</td>\n",
              "      <td>0</td>\n",
              "      <td>0</td>\n",
              "      <td>0</td>\n",
              "      <td>0</td>\n",
              "      <td>0</td>\n",
              "      <td>0</td>\n",
              "      <td>0</td>\n",
              "      <td>0</td>\n",
              "      <td>0</td>\n",
              "      <td>0</td>\n",
              "      <td>0</td>\n",
              "      <td>0</td>\n",
              "      <td>0</td>\n",
              "      <td>0</td>\n",
              "      <td>0</td>\n",
              "      <td>0</td>\n",
              "    </tr>\n",
              "    <tr>\n",
              "      <th>...</th>\n",
              "      <td>...</td>\n",
              "      <td>...</td>\n",
              "      <td>...</td>\n",
              "      <td>...</td>\n",
              "      <td>...</td>\n",
              "      <td>...</td>\n",
              "      <td>...</td>\n",
              "      <td>...</td>\n",
              "      <td>...</td>\n",
              "      <td>...</td>\n",
              "      <td>...</td>\n",
              "      <td>...</td>\n",
              "      <td>...</td>\n",
              "      <td>...</td>\n",
              "      <td>...</td>\n",
              "      <td>...</td>\n",
              "      <td>...</td>\n",
              "      <td>...</td>\n",
              "      <td>...</td>\n",
              "      <td>...</td>\n",
              "      <td>...</td>\n",
              "      <td>...</td>\n",
              "      <td>...</td>\n",
              "      <td>...</td>\n",
              "      <td>...</td>\n",
              "      <td>...</td>\n",
              "      <td>...</td>\n",
              "      <td>...</td>\n",
              "      <td>...</td>\n",
              "      <td>...</td>\n",
              "      <td>...</td>\n",
              "      <td>...</td>\n",
              "      <td>...</td>\n",
              "      <td>...</td>\n",
              "      <td>...</td>\n",
              "      <td>...</td>\n",
              "      <td>...</td>\n",
              "      <td>...</td>\n",
              "      <td>...</td>\n",
              "      <td>...</td>\n",
              "      <td>...</td>\n",
              "      <td>...</td>\n",
              "      <td>...</td>\n",
              "      <td>...</td>\n",
              "      <td>...</td>\n",
              "      <td>...</td>\n",
              "      <td>...</td>\n",
              "      <td>...</td>\n",
              "      <td>...</td>\n",
              "      <td>...</td>\n",
              "      <td>...</td>\n",
              "      <td>...</td>\n",
              "      <td>...</td>\n",
              "      <td>...</td>\n",
              "      <td>...</td>\n",
              "      <td>...</td>\n",
              "      <td>...</td>\n",
              "      <td>...</td>\n",
              "      <td>...</td>\n",
              "      <td>...</td>\n",
              "      <td>...</td>\n",
              "      <td>...</td>\n",
              "      <td>...</td>\n",
              "      <td>...</td>\n",
              "      <td>...</td>\n",
              "      <td>...</td>\n",
              "      <td>...</td>\n",
              "      <td>...</td>\n",
              "      <td>...</td>\n",
              "      <td>...</td>\n",
              "      <td>...</td>\n",
              "      <td>...</td>\n",
              "      <td>...</td>\n",
              "      <td>...</td>\n",
              "      <td>...</td>\n",
              "      <td>...</td>\n",
              "      <td>...</td>\n",
              "      <td>...</td>\n",
              "      <td>...</td>\n",
              "      <td>...</td>\n",
              "      <td>...</td>\n",
              "    </tr>\n",
              "    <tr>\n",
              "      <th>395</th>\n",
              "      <td>0</td>\n",
              "      <td>0</td>\n",
              "      <td>0</td>\n",
              "      <td>0</td>\n",
              "      <td>0</td>\n",
              "      <td>0</td>\n",
              "      <td>0</td>\n",
              "      <td>0</td>\n",
              "      <td>0</td>\n",
              "      <td>0</td>\n",
              "      <td>0</td>\n",
              "      <td>0</td>\n",
              "      <td>0</td>\n",
              "      <td>0</td>\n",
              "      <td>0</td>\n",
              "      <td>0</td>\n",
              "      <td>0</td>\n",
              "      <td>0</td>\n",
              "      <td>0</td>\n",
              "      <td>0</td>\n",
              "      <td>0</td>\n",
              "      <td>0</td>\n",
              "      <td>0</td>\n",
              "      <td>0</td>\n",
              "      <td>0</td>\n",
              "      <td>0</td>\n",
              "      <td>0</td>\n",
              "      <td>0</td>\n",
              "      <td>0</td>\n",
              "      <td>0</td>\n",
              "      <td>0</td>\n",
              "      <td>0</td>\n",
              "      <td>0</td>\n",
              "      <td>0</td>\n",
              "      <td>0</td>\n",
              "      <td>0</td>\n",
              "      <td>0</td>\n",
              "      <td>0</td>\n",
              "      <td>0</td>\n",
              "      <td>0</td>\n",
              "      <td>...</td>\n",
              "      <td>0</td>\n",
              "      <td>0</td>\n",
              "      <td>0</td>\n",
              "      <td>0</td>\n",
              "      <td>0</td>\n",
              "      <td>0</td>\n",
              "      <td>0</td>\n",
              "      <td>0</td>\n",
              "      <td>0</td>\n",
              "      <td>0</td>\n",
              "      <td>0</td>\n",
              "      <td>0</td>\n",
              "      <td>0</td>\n",
              "      <td>0</td>\n",
              "      <td>0</td>\n",
              "      <td>0</td>\n",
              "      <td>0</td>\n",
              "      <td>0</td>\n",
              "      <td>0</td>\n",
              "      <td>0</td>\n",
              "      <td>0</td>\n",
              "      <td>0</td>\n",
              "      <td>0</td>\n",
              "      <td>0</td>\n",
              "      <td>0</td>\n",
              "      <td>0</td>\n",
              "      <td>0</td>\n",
              "      <td>0</td>\n",
              "      <td>0</td>\n",
              "      <td>0</td>\n",
              "      <td>0</td>\n",
              "      <td>0</td>\n",
              "      <td>0</td>\n",
              "      <td>0</td>\n",
              "      <td>0</td>\n",
              "      <td>0</td>\n",
              "      <td>0</td>\n",
              "      <td>0</td>\n",
              "      <td>0</td>\n",
              "      <td>0</td>\n",
              "    </tr>\n",
              "    <tr>\n",
              "      <th>396</th>\n",
              "      <td>0</td>\n",
              "      <td>0</td>\n",
              "      <td>0</td>\n",
              "      <td>0</td>\n",
              "      <td>0</td>\n",
              "      <td>0</td>\n",
              "      <td>0</td>\n",
              "      <td>0</td>\n",
              "      <td>0</td>\n",
              "      <td>0</td>\n",
              "      <td>0</td>\n",
              "      <td>0</td>\n",
              "      <td>0</td>\n",
              "      <td>0</td>\n",
              "      <td>0</td>\n",
              "      <td>0</td>\n",
              "      <td>0</td>\n",
              "      <td>0</td>\n",
              "      <td>0</td>\n",
              "      <td>0</td>\n",
              "      <td>0</td>\n",
              "      <td>0</td>\n",
              "      <td>0</td>\n",
              "      <td>0</td>\n",
              "      <td>0</td>\n",
              "      <td>0</td>\n",
              "      <td>0</td>\n",
              "      <td>0</td>\n",
              "      <td>0</td>\n",
              "      <td>0</td>\n",
              "      <td>0</td>\n",
              "      <td>0</td>\n",
              "      <td>0</td>\n",
              "      <td>0</td>\n",
              "      <td>0</td>\n",
              "      <td>0</td>\n",
              "      <td>0</td>\n",
              "      <td>0</td>\n",
              "      <td>0</td>\n",
              "      <td>0</td>\n",
              "      <td>...</td>\n",
              "      <td>0</td>\n",
              "      <td>0</td>\n",
              "      <td>0</td>\n",
              "      <td>0</td>\n",
              "      <td>0</td>\n",
              "      <td>0</td>\n",
              "      <td>0</td>\n",
              "      <td>0</td>\n",
              "      <td>0</td>\n",
              "      <td>0</td>\n",
              "      <td>0</td>\n",
              "      <td>0</td>\n",
              "      <td>0</td>\n",
              "      <td>0</td>\n",
              "      <td>0</td>\n",
              "      <td>0</td>\n",
              "      <td>0</td>\n",
              "      <td>0</td>\n",
              "      <td>0</td>\n",
              "      <td>0</td>\n",
              "      <td>0</td>\n",
              "      <td>0</td>\n",
              "      <td>0</td>\n",
              "      <td>0</td>\n",
              "      <td>0</td>\n",
              "      <td>0</td>\n",
              "      <td>0</td>\n",
              "      <td>0</td>\n",
              "      <td>0</td>\n",
              "      <td>0</td>\n",
              "      <td>0</td>\n",
              "      <td>0</td>\n",
              "      <td>0</td>\n",
              "      <td>0</td>\n",
              "      <td>0</td>\n",
              "      <td>0</td>\n",
              "      <td>0</td>\n",
              "      <td>0</td>\n",
              "      <td>0</td>\n",
              "      <td>0</td>\n",
              "    </tr>\n",
              "    <tr>\n",
              "      <th>397</th>\n",
              "      <td>0</td>\n",
              "      <td>0</td>\n",
              "      <td>0</td>\n",
              "      <td>0</td>\n",
              "      <td>0</td>\n",
              "      <td>0</td>\n",
              "      <td>0</td>\n",
              "      <td>0</td>\n",
              "      <td>0</td>\n",
              "      <td>0</td>\n",
              "      <td>0</td>\n",
              "      <td>0</td>\n",
              "      <td>0</td>\n",
              "      <td>0</td>\n",
              "      <td>0</td>\n",
              "      <td>0</td>\n",
              "      <td>0</td>\n",
              "      <td>0</td>\n",
              "      <td>0</td>\n",
              "      <td>0</td>\n",
              "      <td>0</td>\n",
              "      <td>0</td>\n",
              "      <td>0</td>\n",
              "      <td>0</td>\n",
              "      <td>0</td>\n",
              "      <td>0</td>\n",
              "      <td>0</td>\n",
              "      <td>0</td>\n",
              "      <td>0</td>\n",
              "      <td>0</td>\n",
              "      <td>0</td>\n",
              "      <td>0</td>\n",
              "      <td>0</td>\n",
              "      <td>0</td>\n",
              "      <td>0</td>\n",
              "      <td>0</td>\n",
              "      <td>0</td>\n",
              "      <td>0</td>\n",
              "      <td>0</td>\n",
              "      <td>0</td>\n",
              "      <td>...</td>\n",
              "      <td>0</td>\n",
              "      <td>0</td>\n",
              "      <td>0</td>\n",
              "      <td>0</td>\n",
              "      <td>0</td>\n",
              "      <td>0</td>\n",
              "      <td>0</td>\n",
              "      <td>0</td>\n",
              "      <td>0</td>\n",
              "      <td>0</td>\n",
              "      <td>0</td>\n",
              "      <td>0</td>\n",
              "      <td>0</td>\n",
              "      <td>0</td>\n",
              "      <td>0</td>\n",
              "      <td>0</td>\n",
              "      <td>0</td>\n",
              "      <td>0</td>\n",
              "      <td>0</td>\n",
              "      <td>0</td>\n",
              "      <td>0</td>\n",
              "      <td>0</td>\n",
              "      <td>0</td>\n",
              "      <td>0</td>\n",
              "      <td>0</td>\n",
              "      <td>0</td>\n",
              "      <td>0</td>\n",
              "      <td>0</td>\n",
              "      <td>0</td>\n",
              "      <td>0</td>\n",
              "      <td>0</td>\n",
              "      <td>0</td>\n",
              "      <td>0</td>\n",
              "      <td>0</td>\n",
              "      <td>0</td>\n",
              "      <td>0</td>\n",
              "      <td>0</td>\n",
              "      <td>0</td>\n",
              "      <td>0</td>\n",
              "      <td>0</td>\n",
              "    </tr>\n",
              "    <tr>\n",
              "      <th>398</th>\n",
              "      <td>0</td>\n",
              "      <td>0</td>\n",
              "      <td>0</td>\n",
              "      <td>0</td>\n",
              "      <td>0</td>\n",
              "      <td>0</td>\n",
              "      <td>0</td>\n",
              "      <td>0</td>\n",
              "      <td>0</td>\n",
              "      <td>0</td>\n",
              "      <td>0</td>\n",
              "      <td>0</td>\n",
              "      <td>0</td>\n",
              "      <td>0</td>\n",
              "      <td>0</td>\n",
              "      <td>0</td>\n",
              "      <td>0</td>\n",
              "      <td>0</td>\n",
              "      <td>0</td>\n",
              "      <td>0</td>\n",
              "      <td>0</td>\n",
              "      <td>0</td>\n",
              "      <td>0</td>\n",
              "      <td>0</td>\n",
              "      <td>0</td>\n",
              "      <td>0</td>\n",
              "      <td>0</td>\n",
              "      <td>0</td>\n",
              "      <td>0</td>\n",
              "      <td>0</td>\n",
              "      <td>0</td>\n",
              "      <td>0</td>\n",
              "      <td>0</td>\n",
              "      <td>0</td>\n",
              "      <td>0</td>\n",
              "      <td>0</td>\n",
              "      <td>0</td>\n",
              "      <td>0</td>\n",
              "      <td>0</td>\n",
              "      <td>0</td>\n",
              "      <td>...</td>\n",
              "      <td>0</td>\n",
              "      <td>0</td>\n",
              "      <td>0</td>\n",
              "      <td>0</td>\n",
              "      <td>0</td>\n",
              "      <td>0</td>\n",
              "      <td>0</td>\n",
              "      <td>0</td>\n",
              "      <td>0</td>\n",
              "      <td>0</td>\n",
              "      <td>0</td>\n",
              "      <td>0</td>\n",
              "      <td>0</td>\n",
              "      <td>0</td>\n",
              "      <td>0</td>\n",
              "      <td>0</td>\n",
              "      <td>0</td>\n",
              "      <td>0</td>\n",
              "      <td>0</td>\n",
              "      <td>0</td>\n",
              "      <td>0</td>\n",
              "      <td>0</td>\n",
              "      <td>0</td>\n",
              "      <td>0</td>\n",
              "      <td>0</td>\n",
              "      <td>0</td>\n",
              "      <td>0</td>\n",
              "      <td>0</td>\n",
              "      <td>0</td>\n",
              "      <td>0</td>\n",
              "      <td>0</td>\n",
              "      <td>0</td>\n",
              "      <td>0</td>\n",
              "      <td>0</td>\n",
              "      <td>0</td>\n",
              "      <td>0</td>\n",
              "      <td>0</td>\n",
              "      <td>0</td>\n",
              "      <td>0</td>\n",
              "      <td>0</td>\n",
              "    </tr>\n",
              "    <tr>\n",
              "      <th>399</th>\n",
              "      <td>0</td>\n",
              "      <td>0</td>\n",
              "      <td>0</td>\n",
              "      <td>0</td>\n",
              "      <td>0</td>\n",
              "      <td>0</td>\n",
              "      <td>0</td>\n",
              "      <td>0</td>\n",
              "      <td>0</td>\n",
              "      <td>0</td>\n",
              "      <td>0</td>\n",
              "      <td>0</td>\n",
              "      <td>0</td>\n",
              "      <td>0</td>\n",
              "      <td>0</td>\n",
              "      <td>0</td>\n",
              "      <td>0</td>\n",
              "      <td>0</td>\n",
              "      <td>0</td>\n",
              "      <td>0</td>\n",
              "      <td>0</td>\n",
              "      <td>0</td>\n",
              "      <td>0</td>\n",
              "      <td>0</td>\n",
              "      <td>0</td>\n",
              "      <td>0</td>\n",
              "      <td>0</td>\n",
              "      <td>0</td>\n",
              "      <td>0</td>\n",
              "      <td>0</td>\n",
              "      <td>0</td>\n",
              "      <td>0</td>\n",
              "      <td>0</td>\n",
              "      <td>0</td>\n",
              "      <td>0</td>\n",
              "      <td>0</td>\n",
              "      <td>0</td>\n",
              "      <td>1</td>\n",
              "      <td>0</td>\n",
              "      <td>0</td>\n",
              "      <td>...</td>\n",
              "      <td>0</td>\n",
              "      <td>0</td>\n",
              "      <td>0</td>\n",
              "      <td>0</td>\n",
              "      <td>0</td>\n",
              "      <td>0</td>\n",
              "      <td>0</td>\n",
              "      <td>0</td>\n",
              "      <td>0</td>\n",
              "      <td>0</td>\n",
              "      <td>0</td>\n",
              "      <td>0</td>\n",
              "      <td>0</td>\n",
              "      <td>0</td>\n",
              "      <td>0</td>\n",
              "      <td>0</td>\n",
              "      <td>0</td>\n",
              "      <td>0</td>\n",
              "      <td>0</td>\n",
              "      <td>0</td>\n",
              "      <td>0</td>\n",
              "      <td>0</td>\n",
              "      <td>0</td>\n",
              "      <td>0</td>\n",
              "      <td>0</td>\n",
              "      <td>0</td>\n",
              "      <td>0</td>\n",
              "      <td>0</td>\n",
              "      <td>0</td>\n",
              "      <td>0</td>\n",
              "      <td>0</td>\n",
              "      <td>0</td>\n",
              "      <td>0</td>\n",
              "      <td>0</td>\n",
              "      <td>0</td>\n",
              "      <td>0</td>\n",
              "      <td>0</td>\n",
              "      <td>0</td>\n",
              "      <td>0</td>\n",
              "      <td>0</td>\n",
              "    </tr>\n",
              "  </tbody>\n",
              "</table>\n",
              "<p>400 rows × 398 columns</p>\n",
              "</div>\n",
              "      <button class=\"colab-df-convert\" onclick=\"convertToInteractive('df-343a56cc-c6f3-422c-ba28-f4ba4082f436')\"\n",
              "              title=\"Convert this dataframe to an interactive table.\"\n",
              "              style=\"display:none;\">\n",
              "        \n",
              "  <svg xmlns=\"http://www.w3.org/2000/svg\" height=\"24px\"viewBox=\"0 0 24 24\"\n",
              "       width=\"24px\">\n",
              "    <path d=\"M0 0h24v24H0V0z\" fill=\"none\"/>\n",
              "    <path d=\"M18.56 5.44l.94 2.06.94-2.06 2.06-.94-2.06-.94-.94-2.06-.94 2.06-2.06.94zm-11 1L8.5 8.5l.94-2.06 2.06-.94-2.06-.94L8.5 2.5l-.94 2.06-2.06.94zm10 10l.94 2.06.94-2.06 2.06-.94-2.06-.94-.94-2.06-.94 2.06-2.06.94z\"/><path d=\"M17.41 7.96l-1.37-1.37c-.4-.4-.92-.59-1.43-.59-.52 0-1.04.2-1.43.59L10.3 9.45l-7.72 7.72c-.78.78-.78 2.05 0 2.83L4 21.41c.39.39.9.59 1.41.59.51 0 1.02-.2 1.41-.59l7.78-7.78 2.81-2.81c.8-.78.8-2.07 0-2.86zM5.41 20L4 18.59l7.72-7.72 1.47 1.35L5.41 20z\"/>\n",
              "  </svg>\n",
              "      </button>\n",
              "      \n",
              "  <style>\n",
              "    .colab-df-container {\n",
              "      display:flex;\n",
              "      flex-wrap:wrap;\n",
              "      gap: 12px;\n",
              "    }\n",
              "\n",
              "    .colab-df-convert {\n",
              "      background-color: #E8F0FE;\n",
              "      border: none;\n",
              "      border-radius: 50%;\n",
              "      cursor: pointer;\n",
              "      display: none;\n",
              "      fill: #1967D2;\n",
              "      height: 32px;\n",
              "      padding: 0 0 0 0;\n",
              "      width: 32px;\n",
              "    }\n",
              "\n",
              "    .colab-df-convert:hover {\n",
              "      background-color: #E2EBFA;\n",
              "      box-shadow: 0px 1px 2px rgba(60, 64, 67, 0.3), 0px 1px 3px 1px rgba(60, 64, 67, 0.15);\n",
              "      fill: #174EA6;\n",
              "    }\n",
              "\n",
              "    [theme=dark] .colab-df-convert {\n",
              "      background-color: #3B4455;\n",
              "      fill: #D2E3FC;\n",
              "    }\n",
              "\n",
              "    [theme=dark] .colab-df-convert:hover {\n",
              "      background-color: #434B5C;\n",
              "      box-shadow: 0px 1px 3px 1px rgba(0, 0, 0, 0.15);\n",
              "      filter: drop-shadow(0px 1px 2px rgba(0, 0, 0, 0.3));\n",
              "      fill: #FFFFFF;\n",
              "    }\n",
              "  </style>\n",
              "\n",
              "      <script>\n",
              "        const buttonEl =\n",
              "          document.querySelector('#df-343a56cc-c6f3-422c-ba28-f4ba4082f436 button.colab-df-convert');\n",
              "        buttonEl.style.display =\n",
              "          google.colab.kernel.accessAllowed ? 'block' : 'none';\n",
              "\n",
              "        async function convertToInteractive(key) {\n",
              "          const element = document.querySelector('#df-343a56cc-c6f3-422c-ba28-f4ba4082f436');\n",
              "          const dataTable =\n",
              "            await google.colab.kernel.invokeFunction('convertToInteractive',\n",
              "                                                     [key], {});\n",
              "          if (!dataTable) return;\n",
              "\n",
              "          const docLinkHtml = 'Like what you see? Visit the ' +\n",
              "            '<a target=\"_blank\" href=https://colab.research.google.com/notebooks/data_table.ipynb>data table notebook</a>'\n",
              "            + ' to learn more about interactive tables.';\n",
              "          element.innerHTML = '';\n",
              "          dataTable['output_type'] = 'display_data';\n",
              "          await google.colab.output.renderOutput(dataTable, element);\n",
              "          const docLink = document.createElement('div');\n",
              "          docLink.innerHTML = docLinkHtml;\n",
              "          element.appendChild(docLink);\n",
              "        }\n",
              "      </script>\n",
              "    </div>\n",
              "  </div>\n",
              "  "
            ],
            "text/plain": [
              "      \"@BAMPI The scam is too much anybody coming into Nigeria is required to pay for Covid 19 test 51k and their is no follow up to know if you have the test or not they are only bothered about the 51k they're collecting\"  ...  why SC has appointed 12 members to look after covid situation his hardwork everywhere no oxygen no bed no vaccine no ration only VISTA &amp; HIS OWN PALACE rafeal 30.000 Crore scam its his hardwork yes\n",
              "0                                                    0                                                                                                                                                                          ...                                                  0                                                                                                                                                        \n",
              "1                                                    0                                                                                                                                                                          ...                                                  0                                                                                                                                                        \n",
              "2                                                    0                                                                                                                                                                          ...                                                  0                                                                                                                                                        \n",
              "3                                                    0                                                                                                                                                                          ...                                                  0                                                                                                                                                        \n",
              "4                                                    0                                                                                                                                                                          ...                                                  0                                                                                                                                                        \n",
              "..                                                 ...                                                                                                                                                                          ...                                                ...                                                                                                                                                        \n",
              "395                                                  0                                                                                                                                                                          ...                                                  0                                                                                                                                                        \n",
              "396                                                  0                                                                                                                                                                          ...                                                  0                                                                                                                                                        \n",
              "397                                                  0                                                                                                                                                                          ...                                                  0                                                                                                                                                        \n",
              "398                                                  0                                                                                                                                                                          ...                                                  0                                                                                                                                                        \n",
              "399                                                  0                                                                                                                                                                          ...                                                  0                                                                                                                                                        \n",
              "\n",
              "[400 rows x 398 columns]"
            ]
          },
          "metadata": {},
          "execution_count": 23
        }
      ]
    },
    {
      "cell_type": "code",
      "metadata": {
        "id": "5p8NXPcvXzBK"
      },
      "source": [
        "#To only select the Label Column, which is the last column\n",
        "Y = dataset.iloc[:, -1].values"
      ],
      "execution_count": null,
      "outputs": []
    },
    {
      "cell_type": "code",
      "metadata": {
        "colab": {
          "base_uri": "https://localhost:8080/"
        },
        "id": "9C1zBQkKZb19",
        "outputId": "594177f3-6172-4829-c762-9bc504a0e7bb"
      },
      "source": [
        "Y"
      ],
      "execution_count": null,
      "outputs": [
        {
          "output_type": "execute_result",
          "data": {
            "text/plain": [
              "array([1, 0, 0, 0, 1, 1, 1, 1, 1, 1, 1, 1, 1, 1, 1, 0, 1, 4, 0, 1, 1, 4,\n",
              "       4, 4, 4, 4, 4, 5, 0, 0, 1, 5, 0, 5, 0, 0, 1, 0, 0, 0, 4, 0, 0, 0,\n",
              "       4, 0, 0, 4, 0, 0, 0, 0, 0, 0, 0, 0, 0, 0, 0, 0, 0, 0, 0, 0, 0, 0,\n",
              "       0, 0, 0, 0, 0, 0, 5, 0, 1, 0, 0, 0, 1, 0, 0, 0, 5, 1, 0, 1, 0, 1,\n",
              "       0, 0, 0, 0, 0, 0, 0, 0, 0, 0, 1, 0, 0, 0, 0, 0, 6, 0, 0, 1, 0, 0,\n",
              "       0, 1, 1, 0, 0, 0, 2, 0, 2, 0, 0, 3, 6, 0, 1, 1, 0, 0, 0, 1, 0, 0,\n",
              "       0, 0, 2, 3, 1, 0, 3, 4, 3, 6, 1, 1, 5, 6, 2, 1, 3, 3, 2, 1, 0, 1,\n",
              "       3, 3, 0, 0, 1, 3, 1, 3, 0, 0, 1, 1, 0, 0, 1, 2, 2, 0, 0, 0, 1, 6,\n",
              "       0, 0, 0, 0, 0, 0, 0, 0, 0, 0, 0, 2, 0, 1, 2, 2, 0, 1, 2, 2, 0, 1,\n",
              "       3, 3, 1, 3, 2, 2, 0, 3, 2, 0, 1, 2, 1, 0, 6, 1, 0, 2, 1, 2, 0, 3,\n",
              "       1, 1, 0, 1, 2, 0, 1, 2, 2, 0, 0, 0, 2, 1, 1, 2, 2, 5, 1, 0, 1, 1,\n",
              "       1, 1, 1, 0, 1, 0, 0, 2, 0, 1, 2, 1, 0, 1, 1, 6, 2, 0, 1, 1, 1, 0,\n",
              "       1, 1, 1, 2, 1, 2, 0, 0, 0, 2, 0, 0, 1, 1, 0, 1, 1, 1, 1, 0, 0, 1,\n",
              "       0, 0, 0, 0, 0, 0, 0, 0, 0, 0, 0, 0, 0, 0, 1, 0, 0, 2, 0, 0, 0, 0,\n",
              "       1, 0, 0, 0, 0, 0, 0, 2, 0, 0, 2, 0, 0, 6, 0, 0, 3, 1, 0, 0, 3, 1,\n",
              "       5, 1, 3, 1, 1, 3, 5, 5, 5, 0, 6, 5, 3, 5, 1, 0, 5, 3, 6, 0, 0, 0,\n",
              "       1, 0, 0, 1, 1, 1, 5, 0, 0, 1, 0, 0, 2, 0, 0, 0, 0, 0, 0, 0, 0, 1,\n",
              "       5, 1, 0, 5, 0, 0, 6, 0, 1, 0, 0, 0, 0, 0, 2, 0, 0, 0, 0, 0, 0, 3,\n",
              "       6, 0, 0, 5])"
            ]
          },
          "metadata": {},
          "execution_count": 25
        }
      ]
    },
    {
      "cell_type": "markdown",
      "metadata": {
        "id": "wL9dBPcKZqXd"
      },
      "source": [
        "**SPLITTING THE DATASET**"
      ]
    },
    {
      "cell_type": "code",
      "metadata": {
        "id": "95jg7qQCZcDI"
      },
      "source": [
        "from sklearn.model_selection import train_test_split"
      ],
      "execution_count": null,
      "outputs": []
    },
    {
      "cell_type": "code",
      "metadata": {
        "id": "9oaosQ7UZcIr"
      },
      "source": [
        "#Test Data size : Train Data Size = 20 : 80 \n",
        "X_train, X_test, Y_train, Y_test = train_test_split(X,Y, test_size=0.2, random_state=1) \n",
        "#stratified train test split in sklearn"
      ],
      "execution_count": null,
      "outputs": []
    },
    {
      "cell_type": "code",
      "metadata": {
        "id": "q8jxvsa6ZcL8"
      },
      "source": [
        "#Importing the library to help in finding the KNN Neighbours\n",
        "from sklearn.neighbors import KNeighborsClassifier "
      ],
      "execution_count": null,
      "outputs": []
    },
    {
      "cell_type": "code",
      "metadata": {
        "id": "zc6zHz-MZcO1"
      },
      "source": [
        "KNN = KNeighborsClassifier(n_neighbors = 5, \n",
        "                           weights = 'uniform',\n",
        "                           algorithm = 'kd_tree',\n",
        "                           leaf_size = 30,\n",
        "                           p =2,\n",
        "                           metric = 'minkowski',\n",
        "                           n_jobs = -1)"
      ],
      "execution_count": null,
      "outputs": []
    },
    {
      "cell_type": "code",
      "metadata": {
        "id": "EgY9PlceZcR7",
        "colab": {
          "base_uri": "https://localhost:8080/"
        },
        "outputId": "c7a73f08-da5f-438b-c5c2-6593346e01f2"
      },
      "source": [
        "KNN.fit(X_train, Y_train)"
      ],
      "execution_count": null,
      "outputs": [
        {
          "output_type": "execute_result",
          "data": {
            "text/plain": [
              "KNeighborsClassifier(algorithm='kd_tree', n_jobs=-1)"
            ]
          },
          "metadata": {},
          "execution_count": 30
        }
      ]
    },
    {
      "cell_type": "code",
      "metadata": {
        "id": "jD73vA-dfTin",
        "colab": {
          "base_uri": "https://localhost:8080/"
        },
        "outputId": "7bf7f2c2-74ea-4b88-d0b5-85440190b3a1"
      },
      "source": [
        "KNN.predict(X_test)"
      ],
      "execution_count": null,
      "outputs": [
        {
          "output_type": "execute_result",
          "data": {
            "text/plain": [
              "array([0, 0, 0, 0, 0, 0, 0, 0, 0, 0, 0, 0, 0, 0, 0, 0, 0, 0, 0, 0, 0, 0,\n",
              "       0, 0, 0, 0, 0, 0, 0, 0, 0, 0, 0, 0, 0, 0, 0, 0, 0, 0, 0, 0, 0, 0,\n",
              "       0, 0, 0, 0, 0, 0, 0, 0, 0, 0, 0, 0, 0, 0, 0, 0, 0, 0, 0, 0, 0, 0,\n",
              "       0, 0, 0, 0, 0, 0, 0, 0, 0, 0, 0, 0, 0, 0])"
            ]
          },
          "metadata": {},
          "execution_count": 31
        }
      ]
    },
    {
      "cell_type": "code",
      "metadata": {
        "id": "ISt33U1_fTmM"
      },
      "source": [
        "Y_pred = KNN.predict(X_test)"
      ],
      "execution_count": null,
      "outputs": []
    },
    {
      "cell_type": "code",
      "metadata": {
        "id": "Mxj-B1wAfTqI"
      },
      "source": [
        "from sklearn.metrics import classification_report, confusion_matrix"
      ],
      "execution_count": null,
      "outputs": []
    },
    {
      "cell_type": "markdown",
      "metadata": {
        "id": "BzhU1ZYgxoZR"
      },
      "source": [
        "**Classification Report**"
      ]
    },
    {
      "cell_type": "code",
      "metadata": {
        "id": "ySfB3xHufTta",
        "colab": {
          "base_uri": "https://localhost:8080/"
        },
        "outputId": "03c6df55-3b72-4b38-fc31-37adc69b455a"
      },
      "source": [
        "print(classification_report(Y_test.reshape(-1,1), Y_pred))"
      ],
      "execution_count": null,
      "outputs": [
        {
          "output_type": "stream",
          "name": "stdout",
          "text": [
            "              precision    recall  f1-score   support\n",
            "\n",
            "           0       0.62      1.00      0.77        50\n",
            "           1       0.00      0.00      0.00        18\n",
            "           2       0.00      0.00      0.00         3\n",
            "           3       0.00      0.00      0.00         5\n",
            "           4       0.00      0.00      0.00         2\n",
            "           6       0.00      0.00      0.00         2\n",
            "\n",
            "    accuracy                           0.62        80\n",
            "   macro avg       0.10      0.17      0.13        80\n",
            "weighted avg       0.39      0.62      0.48        80\n",
            "\n"
          ]
        },
        {
          "output_type": "stream",
          "name": "stderr",
          "text": [
            "/usr/local/lib/python3.7/dist-packages/sklearn/metrics/_classification.py:1308: UndefinedMetricWarning: Precision and F-score are ill-defined and being set to 0.0 in labels with no predicted samples. Use `zero_division` parameter to control this behavior.\n",
            "  _warn_prf(average, modifier, msg_start, len(result))\n",
            "/usr/local/lib/python3.7/dist-packages/sklearn/metrics/_classification.py:1308: UndefinedMetricWarning: Precision and F-score are ill-defined and being set to 0.0 in labels with no predicted samples. Use `zero_division` parameter to control this behavior.\n",
            "  _warn_prf(average, modifier, msg_start, len(result))\n",
            "/usr/local/lib/python3.7/dist-packages/sklearn/metrics/_classification.py:1308: UndefinedMetricWarning: Precision and F-score are ill-defined and being set to 0.0 in labels with no predicted samples. Use `zero_division` parameter to control this behavior.\n",
            "  _warn_prf(average, modifier, msg_start, len(result))\n"
          ]
        }
      ]
    },
    {
      "cell_type": "code",
      "metadata": {
        "id": "46PVo6lyid98",
        "colab": {
          "base_uri": "https://localhost:8080/"
        },
        "outputId": "40ed5435-5580-430f-a090-1fc5d6ecf0d2"
      },
      "source": [
        "from sklearn.metrics import accuracy_score\n",
        "print(\"Accuracy score for KNN is: \", accuracy_score(Y_test, Y_pred) * 100, '%')"
      ],
      "execution_count": null,
      "outputs": [
        {
          "output_type": "stream",
          "name": "stdout",
          "text": [
            "Accuracy score for KNN is:  62.5 %\n"
          ]
        }
      ]
    },
    {
      "cell_type": "markdown",
      "source": [
        "**DATA AUGMENTATION**"
      ],
      "metadata": {
        "id": "zYT1GPzkAeDA"
      }
    },
    {
      "cell_type": "code",
      "source": [
        "pip install imblearn"
      ],
      "metadata": {
        "colab": {
          "base_uri": "https://localhost:8080/"
        },
        "id": "XbVJgffN760p",
        "outputId": "6932b9cc-900d-43aa-ef3c-9a274429c79e"
      },
      "execution_count": null,
      "outputs": [
        {
          "output_type": "stream",
          "name": "stdout",
          "text": [
            "Requirement already satisfied: imblearn in /usr/local/lib/python3.7/dist-packages (0.0)\n",
            "Requirement already satisfied: imbalanced-learn in /usr/local/lib/python3.7/dist-packages (from imblearn) (0.8.1)\n",
            "Requirement already satisfied: numpy>=1.13.3 in /usr/local/lib/python3.7/dist-packages (from imbalanced-learn->imblearn) (1.19.5)\n",
            "Requirement already satisfied: joblib>=0.11 in /usr/local/lib/python3.7/dist-packages (from imbalanced-learn->imblearn) (1.1.0)\n",
            "Requirement already satisfied: scipy>=0.19.1 in /usr/local/lib/python3.7/dist-packages (from imbalanced-learn->imblearn) (1.4.1)\n",
            "Requirement already satisfied: scikit-learn>=0.24 in /usr/local/lib/python3.7/dist-packages (from imbalanced-learn->imblearn) (1.0.1)\n",
            "Requirement already satisfied: threadpoolctl>=2.0.0 in /usr/local/lib/python3.7/dist-packages (from scikit-learn>=0.24->imbalanced-learn->imblearn) (3.0.0)\n"
          ]
        }
      ]
    },
    {
      "cell_type": "code",
      "source": [
        "from imblearn.over_sampling import SMOTE"
      ],
      "metadata": {
        "id": "vXRvKlmT77AZ"
      },
      "execution_count": null,
      "outputs": []
    },
    {
      "cell_type": "code",
      "source": [
        "smote = SMOTE()"
      ],
      "metadata": {
        "id": "6opngK7K77Eh"
      },
      "execution_count": null,
      "outputs": []
    },
    {
      "cell_type": "code",
      "source": [
        "X_train_smote, Y_train_smote = smote.fit_resample(X_train.astype('float'), Y_train)"
      ],
      "metadata": {
        "id": "5Nq2yRZ68N81"
      },
      "execution_count": null,
      "outputs": []
    },
    {
      "cell_type": "code",
      "source": [
        "from collections import Counter"
      ],
      "metadata": {
        "id": "TUFSJPS285hd"
      },
      "execution_count": null,
      "outputs": []
    },
    {
      "cell_type": "code",
      "source": [
        "print(\"Before SMOTE: \", Counter(Y_train))\n",
        "print(\"After SMOTE: \", Counter(Y_train_smote))"
      ],
      "metadata": {
        "colab": {
          "base_uri": "https://localhost:8080/"
        },
        "id": "x6aMrMhW9Vpv",
        "outputId": "29b24641-3bea-4e00-c04e-7ba12ac0f17b"
      },
      "execution_count": null,
      "outputs": [
        {
          "output_type": "stream",
          "name": "stdout",
          "text": [
            "Before SMOTE:  Counter({0: 156, 1: 78, 2: 32, 5: 18, 3: 17, 6: 10, 4: 9})\n",
            "After SMOTE:  Counter({0: 156, 4: 156, 1: 156, 3: 156, 5: 156, 2: 156, 6: 156})\n"
          ]
        }
      ]
    },
    {
      "cell_type": "code",
      "source": [
        "KNN.fit(X_train_smote, Y_train_smote)\n",
        "Y_pred = KNN.predict(X_test)\n",
        "print(\"Accuracy score for KNN is: \", accuracy_score(Y_test, Y_pred) * 100, '%')"
      ],
      "metadata": {
        "colab": {
          "base_uri": "https://localhost:8080/"
        },
        "id": "CFxe0YaC9oQf",
        "outputId": "77ca8821-ceeb-4d2f-d853-dfd5611ac8e3"
      },
      "execution_count": null,
      "outputs": [
        {
          "output_type": "stream",
          "name": "stdout",
          "text": [
            "Accuracy score for KNN is:  3.75 %\n"
          ]
        }
      ]
    },
    {
      "cell_type": "code",
      "source": [
        "pd.crosstab(Y_test, Y_pred)"
      ],
      "metadata": {
        "colab": {
          "base_uri": "https://localhost:8080/",
          "height": 269
        },
        "id": "6nJ9CYVa-K7u",
        "outputId": "65e9d50b-0090-4289-8592-75e0d75e08b4"
      },
      "execution_count": null,
      "outputs": [
        {
          "output_type": "execute_result",
          "data": {
            "text/html": [
              "\n",
              "  <div id=\"df-06057703-5c41-4c69-b593-31b74c4ab0dc\">\n",
              "    <div class=\"colab-df-container\">\n",
              "      <div>\n",
              "<style scoped>\n",
              "    .dataframe tbody tr th:only-of-type {\n",
              "        vertical-align: middle;\n",
              "    }\n",
              "\n",
              "    .dataframe tbody tr th {\n",
              "        vertical-align: top;\n",
              "    }\n",
              "\n",
              "    .dataframe thead th {\n",
              "        text-align: right;\n",
              "    }\n",
              "</style>\n",
              "<table border=\"1\" class=\"dataframe\">\n",
              "  <thead>\n",
              "    <tr style=\"text-align: right;\">\n",
              "      <th>col_0</th>\n",
              "      <th>2</th>\n",
              "    </tr>\n",
              "    <tr>\n",
              "      <th>row_0</th>\n",
              "      <th></th>\n",
              "    </tr>\n",
              "  </thead>\n",
              "  <tbody>\n",
              "    <tr>\n",
              "      <th>0</th>\n",
              "      <td>50</td>\n",
              "    </tr>\n",
              "    <tr>\n",
              "      <th>1</th>\n",
              "      <td>18</td>\n",
              "    </tr>\n",
              "    <tr>\n",
              "      <th>2</th>\n",
              "      <td>3</td>\n",
              "    </tr>\n",
              "    <tr>\n",
              "      <th>3</th>\n",
              "      <td>5</td>\n",
              "    </tr>\n",
              "    <tr>\n",
              "      <th>4</th>\n",
              "      <td>2</td>\n",
              "    </tr>\n",
              "    <tr>\n",
              "      <th>6</th>\n",
              "      <td>2</td>\n",
              "    </tr>\n",
              "  </tbody>\n",
              "</table>\n",
              "</div>\n",
              "      <button class=\"colab-df-convert\" onclick=\"convertToInteractive('df-06057703-5c41-4c69-b593-31b74c4ab0dc')\"\n",
              "              title=\"Convert this dataframe to an interactive table.\"\n",
              "              style=\"display:none;\">\n",
              "        \n",
              "  <svg xmlns=\"http://www.w3.org/2000/svg\" height=\"24px\"viewBox=\"0 0 24 24\"\n",
              "       width=\"24px\">\n",
              "    <path d=\"M0 0h24v24H0V0z\" fill=\"none\"/>\n",
              "    <path d=\"M18.56 5.44l.94 2.06.94-2.06 2.06-.94-2.06-.94-.94-2.06-.94 2.06-2.06.94zm-11 1L8.5 8.5l.94-2.06 2.06-.94-2.06-.94L8.5 2.5l-.94 2.06-2.06.94zm10 10l.94 2.06.94-2.06 2.06-.94-2.06-.94-.94-2.06-.94 2.06-2.06.94z\"/><path d=\"M17.41 7.96l-1.37-1.37c-.4-.4-.92-.59-1.43-.59-.52 0-1.04.2-1.43.59L10.3 9.45l-7.72 7.72c-.78.78-.78 2.05 0 2.83L4 21.41c.39.39.9.59 1.41.59.51 0 1.02-.2 1.41-.59l7.78-7.78 2.81-2.81c.8-.78.8-2.07 0-2.86zM5.41 20L4 18.59l7.72-7.72 1.47 1.35L5.41 20z\"/>\n",
              "  </svg>\n",
              "      </button>\n",
              "      \n",
              "  <style>\n",
              "    .colab-df-container {\n",
              "      display:flex;\n",
              "      flex-wrap:wrap;\n",
              "      gap: 12px;\n",
              "    }\n",
              "\n",
              "    .colab-df-convert {\n",
              "      background-color: #E8F0FE;\n",
              "      border: none;\n",
              "      border-radius: 50%;\n",
              "      cursor: pointer;\n",
              "      display: none;\n",
              "      fill: #1967D2;\n",
              "      height: 32px;\n",
              "      padding: 0 0 0 0;\n",
              "      width: 32px;\n",
              "    }\n",
              "\n",
              "    .colab-df-convert:hover {\n",
              "      background-color: #E2EBFA;\n",
              "      box-shadow: 0px 1px 2px rgba(60, 64, 67, 0.3), 0px 1px 3px 1px rgba(60, 64, 67, 0.15);\n",
              "      fill: #174EA6;\n",
              "    }\n",
              "\n",
              "    [theme=dark] .colab-df-convert {\n",
              "      background-color: #3B4455;\n",
              "      fill: #D2E3FC;\n",
              "    }\n",
              "\n",
              "    [theme=dark] .colab-df-convert:hover {\n",
              "      background-color: #434B5C;\n",
              "      box-shadow: 0px 1px 3px 1px rgba(0, 0, 0, 0.15);\n",
              "      filter: drop-shadow(0px 1px 2px rgba(0, 0, 0, 0.3));\n",
              "      fill: #FFFFFF;\n",
              "    }\n",
              "  </style>\n",
              "\n",
              "      <script>\n",
              "        const buttonEl =\n",
              "          document.querySelector('#df-06057703-5c41-4c69-b593-31b74c4ab0dc button.colab-df-convert');\n",
              "        buttonEl.style.display =\n",
              "          google.colab.kernel.accessAllowed ? 'block' : 'none';\n",
              "\n",
              "        async function convertToInteractive(key) {\n",
              "          const element = document.querySelector('#df-06057703-5c41-4c69-b593-31b74c4ab0dc');\n",
              "          const dataTable =\n",
              "            await google.colab.kernel.invokeFunction('convertToInteractive',\n",
              "                                                     [key], {});\n",
              "          if (!dataTable) return;\n",
              "\n",
              "          const docLinkHtml = 'Like what you see? Visit the ' +\n",
              "            '<a target=\"_blank\" href=https://colab.research.google.com/notebooks/data_table.ipynb>data table notebook</a>'\n",
              "            + ' to learn more about interactive tables.';\n",
              "          element.innerHTML = '';\n",
              "          dataTable['output_type'] = 'display_data';\n",
              "          await google.colab.output.renderOutput(dataTable, element);\n",
              "          const docLink = document.createElement('div');\n",
              "          docLink.innerHTML = docLinkHtml;\n",
              "          element.appendChild(docLink);\n",
              "        }\n",
              "      </script>\n",
              "    </div>\n",
              "  </div>\n",
              "  "
            ],
            "text/plain": [
              "col_0   2\n",
              "row_0    \n",
              "0      50\n",
              "1      18\n",
              "2       3\n",
              "3       5\n",
              "4       2\n",
              "6       2"
            ]
          },
          "metadata": {},
          "execution_count": 43
        }
      ]
    },
    {
      "cell_type": "code",
      "source": [
        "Y_pred = KNN.predict(X_test)\n",
        "print(classification_report(Y_test.reshape(-1,1), Y_pred))"
      ],
      "metadata": {
        "colab": {
          "base_uri": "https://localhost:8080/"
        },
        "id": "FqQhH8-y6lmZ",
        "outputId": "4a4c156c-a166-4a3c-fc96-f2fcd7cade19"
      },
      "execution_count": null,
      "outputs": [
        {
          "output_type": "stream",
          "name": "stdout",
          "text": [
            "              precision    recall  f1-score   support\n",
            "\n",
            "           0       0.00      0.00      0.00        50\n",
            "           1       0.00      0.00      0.00        18\n",
            "           2       0.04      1.00      0.07         3\n",
            "           3       0.00      0.00      0.00         5\n",
            "           4       0.00      0.00      0.00         2\n",
            "           6       0.00      0.00      0.00         2\n",
            "\n",
            "    accuracy                           0.04        80\n",
            "   macro avg       0.01      0.17      0.01        80\n",
            "weighted avg       0.00      0.04      0.00        80\n",
            "\n"
          ]
        },
        {
          "output_type": "stream",
          "name": "stderr",
          "text": [
            "/usr/local/lib/python3.7/dist-packages/sklearn/metrics/_classification.py:1308: UndefinedMetricWarning: Precision and F-score are ill-defined and being set to 0.0 in labels with no predicted samples. Use `zero_division` parameter to control this behavior.\n",
            "  _warn_prf(average, modifier, msg_start, len(result))\n",
            "/usr/local/lib/python3.7/dist-packages/sklearn/metrics/_classification.py:1308: UndefinedMetricWarning: Precision and F-score are ill-defined and being set to 0.0 in labels with no predicted samples. Use `zero_division` parameter to control this behavior.\n",
            "  _warn_prf(average, modifier, msg_start, len(result))\n",
            "/usr/local/lib/python3.7/dist-packages/sklearn/metrics/_classification.py:1308: UndefinedMetricWarning: Precision and F-score are ill-defined and being set to 0.0 in labels with no predicted samples. Use `zero_division` parameter to control this behavior.\n",
            "  _warn_prf(average, modifier, msg_start, len(result))\n"
          ]
        }
      ]
    }
  ]
}